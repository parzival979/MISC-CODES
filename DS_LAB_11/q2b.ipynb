{
 "cells": [
  {
   "cell_type": "code",
   "execution_count": 66,
   "metadata": {
    "collapsed": true,
    "pycharm": {
     "name": "#%%\n"
    }
   },
   "outputs": [],
   "source": [
    "import matplotlib.pyplot as plt\n",
    "import pandas as pd\n",
    "import numpy as np"
   ]
  },
  {
   "cell_type": "code",
   "execution_count": 67,
   "metadata": {
    "pycharm": {
     "name": "#%%\n"
    }
   },
   "outputs": [
    {
     "name": "stdout",
     "output_type": "stream",
     "text": [
      "          dates stationid  temperature  humidity     pressure      rain  \\\n",
      "0    08-07-2018       t10     25.46875  82.18750  1036.346875      6.75   \n",
      "1    09-07-2018       t10     26.19298  83.14912  1037.604386   1761.75   \n",
      "2    10-07-2018       t10     25.17021  85.34043  1037.889362    652.50   \n",
      "3    11-07-2018       t10     24.61972  87.68657  1036.857463    963.00   \n",
      "4    12-07-2018       t10     24.06923  87.64615  1027.830769    254.25   \n",
      "..          ...       ...          ...       ...          ...       ...   \n",
      "940  21-11-2018        t9     13.80851  58.69630  1026.797407  73577.25   \n",
      "941  22-11-2018        t9     15.52482  63.16312  1027.495248  65301.75   \n",
      "942  23-11-2018        t9     15.81560  59.21277  1029.318511  73534.50   \n",
      "943  24-11-2018        t9     16.58571  54.63571  1026.776357  72283.50   \n",
      "944  25-11-2018        t9     17.90000  49.41000  1026.771200  71799.75   \n",
      "\n",
      "     lightavgw/o0  lightmax  moisture  \n",
      "0          5.5000    4000.0   0.00000  \n",
      "1         11.8448    4000.0   5.69300  \n",
      "2          8.7692    4000.0   5.86515  \n",
      "3          8.8358    4000.0   6.03730  \n",
      "4        274.6232    4333.0  31.23850  \n",
      "..            ...       ...       ...  \n",
      "940     5521.1231   47460.0  54.42220  \n",
      "941     5521.1231   47460.0  54.56740  \n",
      "942     5521.1231   47460.0  54.87940  \n",
      "943     5521.1231   47460.0  55.02860  \n",
      "944     5783.7581   47460.0  55.34000  \n",
      "\n",
      "[945 rows x 9 columns]\n"
     ]
    }
   ],
   "source": [
    "miss_df = pd.read_csv(\"landslide_data3_miss.csv\")\n",
    "original_df = pd.read_csv(\"landslide_data3_original.csv\")\n",
    "interpolated_df=miss_df.interpolate()\n",
    "print(interpolated_df)"
   ]
  },
  {
   "cell_type": "code",
   "execution_count": 57,
   "metadata": {
    "pycharm": {
     "name": "#%%\n"
    }
   },
   "outputs": [
    {
     "name": "stdout",
     "output_type": "stream",
     "text": [
      "The Mean Of The Replaced File is\n",
      "temperature        21.196222\n",
      "humidity           83.538245\n",
      "pressure         1009.264758\n",
      "rain            10651.638370\n",
      "lightavgw/o0     4486.340772\n",
      "lightmax        21517.191005\n",
      "moisture           32.327431\n",
      "dtype: float64\n",
      "The Mean Of The Original File is\n",
      "temperature        21.214888\n",
      "humidity           83.479932\n",
      "pressure         1009.008774\n",
      "rain            10701.538370\n",
      "lightavgw/o0     4438.428453\n",
      "lightmax        21788.623280\n",
      "moisture           32.386053\n",
      "dtype: float64\n"
     ]
    },
    {
     "name": "stderr",
     "output_type": "stream",
     "text": [
      "/var/folders/sq/_g9d40851fd2n842lj79vc680000gn/T/ipykernel_12745/54533082.py:2: FutureWarning: The default value of numeric_only in DataFrame.mean is deprecated. In a future version, it will default to False. In addition, specifying 'numeric_only=None' is deprecated. Select only valid columns or specify the value of numeric_only to silence this warning.\n",
      "  print(interpolated_df.mean())\n",
      "/var/folders/sq/_g9d40851fd2n842lj79vc680000gn/T/ipykernel_12745/54533082.py:4: FutureWarning: The default value of numeric_only in DataFrame.mean is deprecated. In a future version, it will default to False. In addition, specifying 'numeric_only=None' is deprecated. Select only valid columns or specify the value of numeric_only to silence this warning.\n",
      "  print(original_df.mean())\n"
     ]
    }
   ],
   "source": [
    "print(\"The Mean Of The Replaced File is\")\n",
    "print(interpolated_df.mean())\n",
    "print(\"The Mean Of The Original File is\")\n",
    "print(original_df.mean())"
   ]
  },
  {
   "cell_type": "code",
   "execution_count": 58,
   "metadata": {
    "pycharm": {
     "name": "#%%\n"
    }
   },
   "outputs": [
    {
     "name": "stdout",
     "output_type": "stream",
     "text": [
      "The Median Of The Replaced File is\n",
      "temperature       22.169210\n",
      "humidity          91.380950\n",
      "pressure        1014.677832\n",
      "rain              22.500000\n",
      "lightavgw/o0    1623.494100\n",
      "lightmax        6569.000000\n",
      "moisture          16.306600\n",
      "dtype: float64\n",
      "The Median Of The Original File is\n",
      "temperature       22.272730\n",
      "humidity          91.380950\n",
      "pressure        1014.677832\n",
      "rain              18.000000\n",
      "lightavgw/o0    1656.880000\n",
      "lightmax        6634.000000\n",
      "moisture          16.704200\n",
      "dtype: float64\n"
     ]
    },
    {
     "name": "stderr",
     "output_type": "stream",
     "text": [
      "/var/folders/sq/_g9d40851fd2n842lj79vc680000gn/T/ipykernel_12745/727265295.py:2: FutureWarning: The default value of numeric_only in DataFrame.median is deprecated. In a future version, it will default to False. In addition, specifying 'numeric_only=None' is deprecated. Select only valid columns or specify the value of numeric_only to silence this warning.\n",
      "  print(interpolated_df.median())\n",
      "/var/folders/sq/_g9d40851fd2n842lj79vc680000gn/T/ipykernel_12745/727265295.py:4: FutureWarning: The default value of numeric_only in DataFrame.median is deprecated. In a future version, it will default to False. In addition, specifying 'numeric_only=None' is deprecated. Select only valid columns or specify the value of numeric_only to silence this warning.\n",
      "  print(original_df.median())\n"
     ]
    }
   ],
   "source": [
    "print(\"The Median Of The Replaced File is\")\n",
    "print(interpolated_df.median())\n",
    "print(\"The Median Of The Original File is\")\n",
    "print(original_df.median())"
   ]
  },
  {
   "cell_type": "code",
   "execution_count": 59,
   "metadata": {
    "pycharm": {
     "name": "#%%\n"
    }
   },
   "outputs": [
    {
     "name": "stdout",
     "output_type": "stream",
     "text": [
      "The Mode Of The Replaced File is\n",
      "        dates stationid  temperature  humidity    pressure  rain  \\\n",
      "0  19-07-2018        t9     12.72727      99.0  789.392692   0.0   \n",
      "1  20-07-2018       NaN          NaN       NaN         NaN   NaN   \n",
      "\n",
      "   lightavgw/o0  lightmax  moisture  \n",
      "0     4488.9103    4000.0       0.0  \n",
      "1           NaN       NaN       NaN  \n",
      "The Mode Of The Original File is\n",
      "        dates stationid  temperature  humidity    pressure  rain  \\\n",
      "0  19-07-2018        t9     12.72727      99.0  789.392692   0.0   \n",
      "1  20-07-2018       NaN          NaN       NaN         NaN   NaN   \n",
      "\n",
      "   lightavgw/o0  lightmax  moisture  \n",
      "0     4488.9103    4000.0       0.0  \n",
      "1           NaN       NaN       NaN  \n"
     ]
    }
   ],
   "source": [
    "print(\"The Mode Of The Replaced File is\")\n",
    "print(interpolated_df.mode())\n",
    "print(\"The Mode Of The Original File is\")\n",
    "print(original_df.mode())"
   ]
  },
  {
   "cell_type": "code",
   "execution_count": 60,
   "metadata": {
    "pycharm": {
     "name": "#%%\n"
    }
   },
   "outputs": [
    {
     "name": "stdout",
     "output_type": "stream",
     "text": [
      "The Standard Deviation Of The Replaced File is\n",
      "temperature         4.329504\n",
      "humidity           18.206727\n",
      "pressure           45.998792\n",
      "rain            24779.512082\n",
      "lightavgw/o0     7573.795424\n",
      "lightmax        21935.165741\n",
      "moisture           33.602566\n",
      "dtype: float64\n",
      "The Standard Deviation Of The Original File is\n",
      "temperature         4.355818\n",
      "humidity           18.210065\n",
      "pressure           46.980477\n",
      "rain            24852.255288\n",
      "lightavgw/o0     7573.162806\n",
      "lightmax        22064.993089\n",
      "moisture           33.653245\n",
      "dtype: float64\n"
     ]
    },
    {
     "name": "stderr",
     "output_type": "stream",
     "text": [
      "/var/folders/sq/_g9d40851fd2n842lj79vc680000gn/T/ipykernel_12745/3383959975.py:2: FutureWarning: The default value of numeric_only in DataFrame.std is deprecated. In a future version, it will default to False. In addition, specifying 'numeric_only=None' is deprecated. Select only valid columns or specify the value of numeric_only to silence this warning.\n",
      "  print(interpolated_df.std())\n",
      "/var/folders/sq/_g9d40851fd2n842lj79vc680000gn/T/ipykernel_12745/3383959975.py:4: FutureWarning: The default value of numeric_only in DataFrame.std is deprecated. In a future version, it will default to False. In addition, specifying 'numeric_only=None' is deprecated. Select only valid columns or specify the value of numeric_only to silence this warning.\n",
      "  print(original_df.std())\n"
     ]
    }
   ],
   "source": [
    "print(\"The Standard Deviation Of The Replaced File is\")\n",
    "print(interpolated_df.std())\n",
    "print(\"The Standard Deviation Of The Original File is\")\n",
    "print(original_df.std())"
   ]
  },
  {
   "cell_type": "code",
   "execution_count": 61,
   "metadata": {
    "pycharm": {
     "name": "#%%\n"
    }
   },
   "outputs": [],
   "source": [
    "orignal_values_dictionary = {}\n",
    "replaced_values_dictionary={}\n",
    "for i in original_df.columns:\n",
    "    if i == \"dates\" or i==\"stationid\":\n",
    "        continue\n",
    "    orignal_values_dictionary[i]=original_df.loc[miss_df[i].isnull()][i]\n",
    "    replaced_values_dictionary[i]=interpolated_df.loc[miss_df[i].isnull()][i]"
   ]
  },
  {
   "cell_type": "code",
   "execution_count": 62,
   "metadata": {
    "pycharm": {
     "name": "#%%\n"
    }
   },
   "outputs": [
    {
     "name": "stdout",
     "output_type": "stream",
     "text": [
      "{'temperature': 1.85561706394122, 'humidity': 3.846215375271329, 'pressure': 24.639976511392888, 'rain': 6014.847129201579, 'lightavgw/o0': 5567.313639085301, 'lightmax': 21150.851782705126, 'moisture': 7.031077545743663}\n"
     ]
    }
   ],
   "source": [
    "rmse_dict_1 = {}\n",
    "for i in orignal_values_dictionary:\n",
    "    original_array = np.array(orignal_values_dictionary[i])\n",
    "    replaced_array = np.array(replaced_values_dictionary[i])\n",
    "    rmse_dict_1[i] = (np.sum((original_array-replaced_array)**2)/len(original_array))**0.5\n",
    "print(rmse_dict_1)"
   ]
  },
  {
   "cell_type": "code",
   "execution_count": 63,
   "metadata": {
    "pycharm": {
     "name": "#%%\n"
    }
   },
   "outputs": [
    {
     "data": {
      "image/png": "[encoded data removed]",
      "text/plain": [
       "<Figure size 640x480 with 1 Axes>"
      ]
     },
     "metadata": {},
     "output_type": "display_data"
    }
   ],
   "source": [
    "plt.bar(rmse_dict_1.keys(),rmse_dict_1.values())\n",
    "plt.xticks(rotation=45)\n",
    "plt.show()"
   ]
  }
 ],
 "metadata": {
  "kernelspec": {
   "display_name": "Python 3 (ipykernel)",
   "language": "python",
   "name": "python3"
  },
  "language_info": {
   "codemirror_mode": {
    "name": "ipython",
    "version": 3
   },
   "file_extension": ".py",
   "mimetype": "text/x-python",
   "name": "python",
   "nbconvert_exporter": "python",
   "pygments_lexer": "ipython3",
   "version": "3.10.6"
  }
 },
 "nbformat": 4,
 "nbformat_minor": 1
}