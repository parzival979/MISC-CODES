{
 "cells": [
  {
   "cell_type": "code",
   "execution_count": 10,
   "metadata": {
    "collapsed": true,
    "pycharm": {
     "name": "#%%\n"
    }
   },
   "outputs": [],
   "source": [
    "import matplotlib.pyplot as plt\n",
    "import pandas as pd\n",
    "import numpy as np"
   ]
  },
  {
   "cell_type": "code",
   "execution_count": 11,
   "metadata": {
    "pycharm": {
     "name": "#%%\n"
    }
   },
   "outputs": [
    {
     "name": "stdout",
     "output_type": "stream",
     "text": [
      "          dates stationid  temperature  humidity     pressure      rain  \\\n",
      "0    08-07-2018       t10    25.468750  82.18750  1036.346875      6.75   \n",
      "1    09-07-2018       t10    26.192980  83.14912  1037.604386   1761.75   \n",
      "2    10-07-2018       t10    25.170210  85.34043  1037.889362    652.50   \n",
      "3    11-07-2018       t10    21.078545  87.68657  1036.857463    963.00   \n",
      "4    12-07-2018       t10    24.069230  87.64615  1027.830769    254.25   \n",
      "..          ...       ...          ...       ...          ...       ...   \n",
      "940  21-11-2018        t9    21.078545  58.69630  1026.797407  73577.25   \n",
      "941  22-11-2018        t9    15.524820  63.16312  1027.495248  65301.75   \n",
      "942  23-11-2018        t9    15.815600  59.21277  1029.318511  73534.50   \n",
      "943  24-11-2018        t9    16.585710  54.63571  1026.776357  72283.50   \n",
      "944  25-11-2018        t9    17.900000  49.41000  1026.771200  71799.75   \n",
      "\n",
      "     lightavgw/o0  lightmax   moisture  \n",
      "0          5.5000    4000.0   0.000000  \n",
      "1         11.8448    4000.0   5.693000  \n",
      "2          8.7692    4000.0  32.671968  \n",
      "3          8.8358    4000.0   6.037300  \n",
      "4        274.6232    4333.0  31.238500  \n",
      "..            ...       ...        ...  \n",
      "940     5521.1231   47460.0  54.422200  \n",
      "941     5521.1231   47460.0  54.567400  \n",
      "942     5521.1231   47460.0  54.879400  \n",
      "943     5521.1231   47460.0  55.028600  \n",
      "944     5783.7581   47460.0  55.340000  \n",
      "\n",
      "[945 rows x 9 columns]\n"
     ]
    },
    {
     "name": "stderr",
     "output_type": "stream",
     "text": [
      "/var/folders/sq/_g9d40851fd2n842lj79vc680000gn/T/ipykernel_12750/268655087.py:3: FutureWarning: The default value of numeric_only in DataFrame.mean is deprecated. In a future version, it will default to False. In addition, specifying 'numeric_only=None' is deprecated. Select only valid columns or specify the value of numeric_only to silence this warning.\n",
      "  replaced_mean_df=miss_df.fillna(miss_df.mean())\n"
     ]
    }
   ],
   "source": [
    "miss_df = pd.read_csv(\"landslide_data3_miss.csv\")\n",
    "original_df = pd.read_csv(\"landslide_data3_original.csv\")\n",
    "replaced_mean_df=miss_df.fillna(miss_df.mean())\n",
    "print(replaced_mean_df)"
   ]
  },
  {
   "cell_type": "code",
   "execution_count": 12,
   "metadata": {
    "pycharm": {
     "name": "#%%\n"
    }
   },
   "outputs": [
    {
     "name": "stdout",
     "output_type": "stream",
     "text": [
      "The Mean Of The Replaced File is\n",
      "temperature        21.078545\n",
      "humidity           83.261665\n",
      "pressure         1009.225238\n",
      "rain            10942.726307\n",
      "lightavgw/o0     4430.927906\n",
      "lightmax        21650.163020\n",
      "moisture           32.671968\n",
      "dtype: float64\n",
      "The Mean Of The Original File is\n",
      "temperature        21.214888\n",
      "humidity           83.479932\n",
      "pressure         1009.008774\n",
      "rain            10701.538370\n",
      "lightavgw/o0     4438.428453\n",
      "lightmax        21788.623280\n",
      "moisture           32.386053\n",
      "dtype: float64\n"
     ]
    },
    {
     "name": "stderr",
     "output_type": "stream",
     "text": [
      "/var/folders/sq/_g9d40851fd2n842lj79vc680000gn/T/ipykernel_12750/480383587.py:2: FutureWarning: The default value of numeric_only in DataFrame.mean is deprecated. In a future version, it will default to False. In addition, specifying 'numeric_only=None' is deprecated. Select only valid columns or specify the value of numeric_only to silence this warning.\n",
      "  print(replaced_mean_df.mean())\n",
      "/var/folders/sq/_g9d40851fd2n842lj79vc680000gn/T/ipykernel_12750/480383587.py:4: FutureWarning: The default value of numeric_only in DataFrame.mean is deprecated. In a future version, it will default to False. In addition, specifying 'numeric_only=None' is deprecated. Select only valid columns or specify the value of numeric_only to silence this warning.\n",
      "  print(original_df.mean())\n"
     ]
    }
   ],
   "source": [
    "print(\"The Mean Of The Replaced File is\")\n",
    "print(replaced_mean_df.mean())\n",
    "print(\"The Mean Of The Original File is\")\n",
    "print(original_df.mean())"
   ]
  },
  {
   "cell_type": "code",
   "execution_count": 13,
   "metadata": {
    "pycharm": {
     "name": "#%%\n"
    }
   },
   "outputs": [
    {
     "name": "stdout",
     "output_type": "stream",
     "text": [
      "The Median Of The Replaced File is\n",
      "temperature       21.800000\n",
      "humidity          90.119050\n",
      "pressure        1014.070741\n",
      "rain              24.750000\n",
      "lightavgw/o0    1911.233800\n",
      "lightmax        7544.000000\n",
      "moisture          17.723400\n",
      "dtype: float64\n",
      "The Median Of The Original File is\n",
      "temperature       22.272730\n",
      "humidity          91.380950\n",
      "pressure        1014.677832\n",
      "rain              18.000000\n",
      "lightavgw/o0    1656.880000\n",
      "lightmax        6634.000000\n",
      "moisture          16.704200\n",
      "dtype: float64\n"
     ]
    },
    {
     "name": "stderr",
     "output_type": "stream",
     "text": [
      "/var/folders/sq/_g9d40851fd2n842lj79vc680000gn/T/ipykernel_12750/1427092766.py:2: FutureWarning: The default value of numeric_only in DataFrame.median is deprecated. In a future version, it will default to False. In addition, specifying 'numeric_only=None' is deprecated. Select only valid columns or specify the value of numeric_only to silence this warning.\n",
      "  print(replaced_mean_df.median())\n",
      "/var/folders/sq/_g9d40851fd2n842lj79vc680000gn/T/ipykernel_12750/1427092766.py:4: FutureWarning: The default value of numeric_only in DataFrame.median is deprecated. In a future version, it will default to False. In addition, specifying 'numeric_only=None' is deprecated. Select only valid columns or specify the value of numeric_only to silence this warning.\n",
      "  print(original_df.median())\n"
     ]
    }
   ],
   "source": [
    "print(\"The Median Of The Replaced File is\")\n",
    "print(replaced_mean_df.median())\n",
    "print(\"The Median Of The Original File is\")\n",
    "print(original_df.median())"
   ]
  },
  {
   "cell_type": "code",
   "execution_count": 14,
   "metadata": {
    "pycharm": {
     "name": "#%%\n"
    }
   },
   "outputs": [
    {
     "name": "stdout",
     "output_type": "stream",
     "text": [
      "The Mode Of The Replaced File is\n",
      "        dates stationid  temperature  humidity     pressure  rain  \\\n",
      "0  19-07-2018        t9    21.078545      99.0  1009.225238   0.0   \n",
      "1  20-07-2018       NaN          NaN       NaN          NaN   NaN   \n",
      "\n",
      "   lightavgw/o0  lightmax  moisture  \n",
      "0     4488.9103    4000.0       0.0  \n",
      "1           NaN       NaN       NaN  \n",
      "The Mode Of The Original File is\n",
      "        dates stationid  temperature  humidity    pressure  rain  \\\n",
      "0  19-07-2018        t9     12.72727      99.0  789.392692   0.0   \n",
      "1  20-07-2018       NaN          NaN       NaN         NaN   NaN   \n",
      "\n",
      "   lightavgw/o0  lightmax  moisture  \n",
      "0     4488.9103    4000.0       0.0  \n",
      "1           NaN       NaN       NaN  \n"
     ]
    }
   ],
   "source": [
    "print(\"The Mode Of The Replaced File is\")\n",
    "print(replaced_mean_df.mode())\n",
    "print(\"The Mode Of The Original File is\")\n",
    "print(original_df.mode())"
   ]
  },
  {
   "cell_type": "code",
   "execution_count": 15,
   "metadata": {
    "pycharm": {
     "name": "#%%\n"
    }
   },
   "outputs": [
    {
     "name": "stdout",
     "output_type": "stream",
     "text": [
      "The Standard Deviation Of The Replaced File is\n",
      "temperature         4.243347\n",
      "humidity           17.967910\n",
      "pressure           45.214874\n",
      "rain            24574.252587\n",
      "lightavgw/o0     7400.586085\n",
      "lightmax        21678.196144\n",
      "moisture           33.415806\n",
      "dtype: float64\n",
      "The Standard Deviation Of The Original File is\n",
      "temperature         4.355818\n",
      "humidity           18.210065\n",
      "pressure           46.980477\n",
      "rain            24852.255288\n",
      "lightavgw/o0     7573.162806\n",
      "lightmax        22064.993089\n",
      "moisture           33.653245\n",
      "dtype: float64\n"
     ]
    },
    {
     "name": "stderr",
     "output_type": "stream",
     "text": [
      "/var/folders/sq/_g9d40851fd2n842lj79vc680000gn/T/ipykernel_12750/444444003.py:2: FutureWarning: The default value of numeric_only in DataFrame.std is deprecated. In a future version, it will default to False. In addition, specifying 'numeric_only=None' is deprecated. Select only valid columns or specify the value of numeric_only to silence this warning.\n",
      "  print(replaced_mean_df.std())\n",
      "/var/folders/sq/_g9d40851fd2n842lj79vc680000gn/T/ipykernel_12750/444444003.py:4: FutureWarning: The default value of numeric_only in DataFrame.std is deprecated. In a future version, it will default to False. In addition, specifying 'numeric_only=None' is deprecated. Select only valid columns or specify the value of numeric_only to silence this warning.\n",
      "  print(original_df.std())\n"
     ]
    }
   ],
   "source": [
    "print(\"The Standard Deviation Of The Replaced File is\")\n",
    "print(replaced_mean_df.std())\n",
    "print(\"The Standard Deviation Of The Original File is\")\n",
    "print(original_df.std())"
   ]
  },
  {
   "cell_type": "code",
   "execution_count": 16,
   "metadata": {
    "pycharm": {
     "name": "#%%\n"
    }
   },
   "outputs": [],
   "source": [
    "orignal_values_dictionary = {}\n",
    "replaced_values_dictionary={}\n",
    "for i in original_df.columns:\n",
    "    if i == \"dates\" or i==\"stationid\":\n",
    "        continue\n",
    "    orignal_values_dictionary[i]=original_df.loc[miss_df[i].isnull()][i]\n",
    "    replaced_values_dictionary[i]=replaced_mean_df.loc[miss_df[i].isnull()][i]"
   ]
  },
  {
   "cell_type": "code",
   "execution_count": 17,
   "metadata": {
    "pycharm": {
     "name": "#%%\n"
    }
   },
   "outputs": [
    {
     "name": "stdout",
     "output_type": "stream",
     "text": [
      "{'temperature': 3.754920706652186, 'humidity': 13.593367701425382, 'pressure': 44.67907886243912, 'rain': 18514.713587699505, 'lightavgw/o0': 7204.406021900535, 'lightmax': 22711.616895729538, 'moisture': 22.07774631718766}\n"
     ]
    }
   ],
   "source": [
    "rmse_dict_1 = {}\n",
    "for i in orignal_values_dictionary:\n",
    "    original_array = np.array(orignal_values_dictionary[i])\n",
    "    replaced_array = np.array(replaced_values_dictionary[i])\n",
    "    rmse_dict_1[i] = (np.sum((original_array-replaced_array)**2)/len(original_array))**0.5\n",
    "print(rmse_dict_1)"
   ]
  },
  {
   "cell_type": "code",
   "execution_count": 18,
   "metadata": {
    "pycharm": {
     "name": "#%%\n"
    }
   },
   "outputs": [
    {
     "data": {
      "image/png": "[encoded data removed]",
      "text/plain": [
       "<Figure size 640x480 with 1 Axes>"
      ]
     },
     "metadata": {},
     "output_type": "display_data"
    }
   ],
   "source": [
    "plt.bar(rmse_dict_1.keys(),rmse_dict_1.values())\n",
    "plt.xticks(rotation=45)\n",
    "plt.show()"
   ]
  }
 ],
 "metadata": {
  "kernelspec": {
   "display_name": "Python 3 (ipykernel)",
   "language": "python",
   "name": "python3"
  },
  "language_info": {
   "codemirror_mode": {
    "name": "ipython",
    "version": 3
   },
   "file_extension": ".py",
   "mimetype": "text/x-python",
   "name": "python",
   "nbconvert_exporter": "python",
   "pygments_lexer": "ipython3",
   "version": "3.10.6"
  }
 },
 "nbformat": 4,
 "nbformat_minor": 1
}