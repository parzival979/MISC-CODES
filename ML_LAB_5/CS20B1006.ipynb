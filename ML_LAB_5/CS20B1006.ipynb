{
 "cells": [
  {
   "cell_type": "markdown",
   "source": [
    "# ML LAB DAY 5\n",
    "#### Programmed By Sravanth Chowdary Potluri CS20B1006\n",
    "1.Perform Fisher Discriminant Analysis on pima-indians-diabetes.csv\n",
    "2. Perform Decision Tree classification on pima-indians-diabetes.csv\n",
    "3. Perform Fisher Discriminant Analysis on pima-indians-diabetes.csv and then perform decision tree classification. compare the results."
   ],
   "metadata": {
    "collapsed": false,
    "pycharm": {
     "name": "#%% md\n"
    }
   }
  },
  {
   "cell_type": "code",
   "execution_count": 127,
   "metadata": {
    "collapsed": true,
    "pycharm": {
     "name": "#%%\n"
    }
   },
   "outputs": [],
   "source": [
    "# importing required libraries\n",
    "import numpy as np\n",
    "import pandas as pd\n",
    "import matplotlib.pyplot as plt\n",
    "import seaborn as sns"
   ]
  },
  {
   "cell_type": "code",
   "execution_count": 128,
   "outputs": [],
   "source": [
    "# reading the dataset\n",
    "data = pd.read_csv('pima-indians-diabetes.csv')"
   ],
   "metadata": {
    "collapsed": false,
    "pycharm": {
     "name": "#%%\n"
    }
   }
  },
  {
   "cell_type": "code",
   "execution_count": 129,
   "outputs": [
    {
     "name": "stdout",
     "output_type": "stream",
     "text": [
      "     Unnamed: 0  Unnamed: 1  Unnamed: 2  Unnamed: 3  Unnamed: 4  Unnamed: 5  \\\n",
      "0             6         148          72          35           0        33.6   \n",
      "1             1          85          66          29           0        26.6   \n",
      "2             8         183          64           0           0        23.3   \n",
      "3             1          89          66          23          94        28.1   \n",
      "4             0         137          40          35         168        43.1   \n",
      "..          ...         ...         ...         ...         ...         ...   \n",
      "763          10         101          76          48         180        32.9   \n",
      "764           2         122          70          27           0        36.8   \n",
      "765           5         121          72          23         112        26.2   \n",
      "766           1         126          60           0           0        30.1   \n",
      "767           1          93          70          31           0        30.4   \n",
      "\n",
      "     Unnamed: 6  Unnamed: 7  Unnamed: 8  \n",
      "0         0.627          50           1  \n",
      "1         0.351          31           0  \n",
      "2         0.672          32           1  \n",
      "3         0.167          21           0  \n",
      "4         2.288          33           1  \n",
      "..          ...         ...         ...  \n",
      "763       0.171          63           0  \n",
      "764       0.340          27           0  \n",
      "765       0.245          30           0  \n",
      "766       0.349          47           1  \n",
      "767       0.315          23           0  \n",
      "\n",
      "[768 rows x 9 columns]\n"
     ]
    }
   ],
   "source": [
    "# printing the dataset\n",
    "print(data)"
   ],
   "metadata": {
    "collapsed": false,
    "pycharm": {
     "name": "#%%\n"
    }
   }
  },
  {
   "cell_type": "code",
   "execution_count": 130,
   "outputs": [
    {
     "name": "stdout",
     "output_type": "stream",
     "text": [
      "     Unnamed: 0  Unnamed: 1  Unnamed: 2  Unnamed: 3  Unnamed: 4  Unnamed: 5  \\\n",
      "0             6         148          72          35           0        33.6   \n",
      "1             1          85          66          29           0        26.6   \n",
      "2             8         183          64           0           0        23.3   \n",
      "3             1          89          66          23          94        28.1   \n",
      "4             0         137          40          35         168        43.1   \n",
      "..          ...         ...         ...         ...         ...         ...   \n",
      "763          10         101          76          48         180        32.9   \n",
      "764           2         122          70          27           0        36.8   \n",
      "765           5         121          72          23         112        26.2   \n",
      "766           1         126          60           0           0        30.1   \n",
      "767           1          93          70          31           0        30.4   \n",
      "\n",
      "     Unnamed: 6  Unnamed: 7  \n",
      "0         0.627          50  \n",
      "1         0.351          31  \n",
      "2         0.672          32  \n",
      "3         0.167          21  \n",
      "4         2.288          33  \n",
      "..          ...         ...  \n",
      "763       0.171          63  \n",
      "764       0.340          27  \n",
      "765       0.245          30  \n",
      "766       0.349          47  \n",
      "767       0.315          23  \n",
      "\n",
      "[768 rows x 8 columns]\n",
      "0      1\n",
      "1      0\n",
      "2      1\n",
      "3      0\n",
      "4      1\n",
      "      ..\n",
      "763    0\n",
      "764    0\n",
      "765    0\n",
      "766    1\n",
      "767    0\n",
      "Name: Unnamed: 8, Length: 768, dtype: int64\n"
     ]
    }
   ],
   "source": [
    "# seperating the labels\n",
    "labels = data['Unnamed: 8']\n",
    "# Dropping the labels from the dataset\n",
    "data = data.drop('Unnamed: 8', axis = 1)\n",
    "print(data)\n",
    "print(labels)"
   ],
   "metadata": {
    "collapsed": false,
    "pycharm": {
     "name": "#%%\n"
    }
   }
  },
  {
   "cell_type": "code",
   "execution_count": 131,
   "outputs": [
    {
     "name": "stdout",
     "output_type": "stream",
     "text": [
      "     Unnamed: 0  Unnamed: 1  Unnamed: 2  Unnamed: 3  Unnamed: 4  Unnamed: 5  \\\n",
      "0      0.352941    0.743719    0.590164    0.353535    0.000000    0.500745   \n",
      "1      0.058824    0.427136    0.540984    0.292929    0.000000    0.396423   \n",
      "2      0.470588    0.919598    0.524590    0.000000    0.000000    0.347243   \n",
      "3      0.058824    0.447236    0.540984    0.232323    0.111111    0.418778   \n",
      "4      0.000000    0.688442    0.327869    0.353535    0.198582    0.642325   \n",
      "..          ...         ...         ...         ...         ...         ...   \n",
      "763    0.588235    0.507538    0.622951    0.484848    0.212766    0.490313   \n",
      "764    0.117647    0.613065    0.573770    0.272727    0.000000    0.548435   \n",
      "765    0.294118    0.608040    0.590164    0.232323    0.132388    0.390462   \n",
      "766    0.058824    0.633166    0.491803    0.000000    0.000000    0.448584   \n",
      "767    0.058824    0.467337    0.573770    0.313131    0.000000    0.453055   \n",
      "\n",
      "     Unnamed: 6  Unnamed: 7  \n",
      "0      0.234415    0.483333  \n",
      "1      0.116567    0.166667  \n",
      "2      0.253629    0.183333  \n",
      "3      0.038002    0.000000  \n",
      "4      0.943638    0.200000  \n",
      "..          ...         ...  \n",
      "763    0.039710    0.700000  \n",
      "764    0.111870    0.100000  \n",
      "765    0.071307    0.150000  \n",
      "766    0.115713    0.433333  \n",
      "767    0.101196    0.033333  \n",
      "\n",
      "[768 rows x 8 columns]\n"
     ]
    },
    {
     "name": "stderr",
     "output_type": "stream",
     "text": [
      "/Users/parzival979/miniforge3/envs/ML_LAB_5/lib/python3.10/site-packages/numpy/core/fromnumeric.py:84: FutureWarning: In a future version, DataFrame.min(axis=None) will return a scalar min over the entire DataFrame. To retain the old behavior, use 'frame.min(axis=0)' or just 'frame.min()'\n",
      "  return reduction(axis=axis, out=out, **passkwargs)\n",
      "/Users/parzival979/miniforge3/envs/ML_LAB_5/lib/python3.10/site-packages/numpy/core/fromnumeric.py:84: FutureWarning: In a future version, DataFrame.max(axis=None) will return a scalar max over the entire DataFrame. To retain the old behavior, use 'frame.max(axis=0)' or just 'frame.max()'\n",
      "  return reduction(axis=axis, out=out, **passkwargs)\n"
     ]
    }
   ],
   "source": [
    "# normalizing the data in the dataset\n",
    "data = (data - np.min(data)) / (np.max(data) - np.min(data))\n",
    "print(data)"
   ],
   "metadata": {
    "collapsed": false,
    "pycharm": {
     "name": "#%%\n"
    }
   }
  },
  {
   "cell_type": "code",
   "execution_count": 132,
   "outputs": [],
   "source": [
    "# splitting the dataset into train and test\n",
    "from sklearn.model_selection import train_test_split\n",
    "X_train, X_test, y_train, y_test = train_test_split(data, labels, test_size = 0.3, random_state = 42)"
   ],
   "metadata": {
    "collapsed": false,
    "pycharm": {
     "name": "#%%\n"
    }
   }
  },
  {
   "cell_type": "code",
   "execution_count": 133,
   "outputs": [
    {
     "data": {
      "text/plain": "DecisionTreeClassifier(max_depth=2)",
      "text/html": "<style>#sk-container-id-13 {color: black;background-color: white;}#sk-container-id-13 pre{padding: 0;}#sk-container-id-13 div.sk-toggleable {background-color: white;}#sk-container-id-13 label.sk-toggleable__label {cursor: pointer;display: block;width: 100%;margin-bottom: 0;padding: 0.3em;box-sizing: border-box;text-align: center;}#sk-container-id-13 label.sk-toggleable__label-arrow:before {content: \"▸\";float: left;margin-right: 0.25em;color: #696969;}#sk-container-id-13 label.sk-toggleable__label-arrow:hover:before {color: black;}#sk-container-id-13 div.sk-estimator:hover label.sk-toggleable__label-arrow:before {color: black;}#sk-container-id-13 div.sk-toggleable__content {max-height: 0;max-width: 0;overflow: hidden;text-align: left;background-color: #f0f8ff;}#sk-container-id-13 div.sk-toggleable__content pre {margin: 0.2em;color: black;border-radius: 0.25em;background-color: #f0f8ff;}#sk-container-id-13 input.sk-toggleable__control:checked~div.sk-toggleable__content {max-height: 200px;max-width: 100%;overflow: auto;}#sk-container-id-13 input.sk-toggleable__control:checked~label.sk-toggleable__label-arrow:before {content: \"▾\";}#sk-container-id-13 div.sk-estimator input.sk-toggleable__control:checked~label.sk-toggleable__label {background-color: #d4ebff;}#sk-container-id-13 div.sk-label input.sk-toggleable__control:checked~label.sk-toggleable__label {background-color: #d4ebff;}#sk-container-id-13 input.sk-hidden--visually {border: 0;clip: rect(1px 1px 1px 1px);clip: rect(1px, 1px, 1px, 1px);height: 1px;margin: -1px;overflow: hidden;padding: 0;position: absolute;width: 1px;}#sk-container-id-13 div.sk-estimator {font-family: monospace;background-color: #f0f8ff;border: 1px dotted black;border-radius: 0.25em;box-sizing: border-box;margin-bottom: 0.5em;}#sk-container-id-13 div.sk-estimator:hover {background-color: #d4ebff;}#sk-container-id-13 div.sk-parallel-item::after {content: \"\";width: 100%;border-bottom: 1px solid gray;flex-grow: 1;}#sk-container-id-13 div.sk-label:hover label.sk-toggleable__label {background-color: #d4ebff;}#sk-container-id-13 div.sk-serial::before {content: \"\";position: absolute;border-left: 1px solid gray;box-sizing: border-box;top: 0;bottom: 0;left: 50%;z-index: 0;}#sk-container-id-13 div.sk-serial {display: flex;flex-direction: column;align-items: center;background-color: white;padding-right: 0.2em;padding-left: 0.2em;position: relative;}#sk-container-id-13 div.sk-item {position: relative;z-index: 1;}#sk-container-id-13 div.sk-parallel {display: flex;align-items: stretch;justify-content: center;background-color: white;position: relative;}#sk-container-id-13 div.sk-item::before, #sk-container-id-13 div.sk-parallel-item::before {content: \"\";position: absolute;border-left: 1px solid gray;box-sizing: border-box;top: 0;bottom: 0;left: 50%;z-index: -1;}#sk-container-id-13 div.sk-parallel-item {display: flex;flex-direction: column;z-index: 1;position: relative;background-color: white;}#sk-container-id-13 div.sk-parallel-item:first-child::after {align-self: flex-end;width: 50%;}#sk-container-id-13 div.sk-parallel-item:last-child::after {align-self: flex-start;width: 50%;}#sk-container-id-13 div.sk-parallel-item:only-child::after {width: 0;}#sk-container-id-13 div.sk-dashed-wrapped {border: 1px dashed gray;margin: 0 0.4em 0.5em 0.4em;box-sizing: border-box;padding-bottom: 0.4em;background-color: white;}#sk-container-id-13 div.sk-label label {font-family: monospace;font-weight: bold;display: inline-block;line-height: 1.2em;}#sk-container-id-13 div.sk-label-container {text-align: center;}#sk-container-id-13 div.sk-container {/* jupyter's `normalize.less` sets `[hidden] { display: none; }` but bootstrap.min.css set `[hidden] { display: none !important; }` so we also need the `!important` here to be able to override the default hidden behavior on the sphinx rendered scikit-learn.org. See: https://github.com/scikit-learn/scikit-learn/issues/21755 */display: inline-block !important;position: relative;}#sk-container-id-13 div.sk-text-repr-fallback {display: none;}</style><div id=\"sk-container-id-13\" class=\"sk-top-container\"><div class=\"sk-text-repr-fallback\"><pre>DecisionTreeClassifier(max_depth=2)</pre><b>In a Jupyter environment, please rerun this cell to show the HTML representation or trust the notebook. <br />On GitHub, the HTML representation is unable to render, please try loading this page with nbviewer.org.</b></div><div class=\"sk-container\" hidden><div class=\"sk-item\"><div class=\"sk-estimator sk-toggleable\"><input class=\"sk-toggleable__control sk-hidden--visually\" id=\"sk-estimator-id-13\" type=\"checkbox\" checked><label for=\"sk-estimator-id-13\" class=\"sk-toggleable__label sk-toggleable__label-arrow\">DecisionTreeClassifier</label><div class=\"sk-toggleable__content\"><pre>DecisionTreeClassifier(max_depth=2)</pre></div></div></div></div></div>"
     },
     "execution_count": 133,
     "metadata": {},
     "output_type": "execute_result"
    }
   ],
   "source": [
    "# performing decision tree classification\n",
    "from sklearn.tree import DecisionTreeClassifier\n",
    "dt = DecisionTreeClassifier(max_depth=2)\n",
    "dt.fit(X_train, y_train)"
   ],
   "metadata": {
    "collapsed": false,
    "pycharm": {
     "name": "#%%\n"
    }
   }
  },
  {
   "cell_type": "code",
   "execution_count": 134,
   "outputs": [],
   "source": [
    "# predicting the test set results\n",
    "y_pred = dt.predict(X_test)\n"
   ],
   "metadata": {
    "collapsed": false,
    "pycharm": {
     "name": "#%%\n"
    }
   }
  },
  {
   "cell_type": "code",
   "execution_count": 135,
   "outputs": [
    {
     "name": "stdout",
     "output_type": "stream",
     "text": [
      "0.7186147186147186\n"
     ]
    }
   ],
   "source": [
    "# printing the accuracy score\n",
    "from sklearn.metrics import accuracy_score\n",
    "print(accuracy_score(y_test, y_pred))"
   ],
   "metadata": {
    "collapsed": false,
    "pycharm": {
     "name": "#%%\n"
    }
   }
  },
  {
   "cell_type": "code",
   "execution_count": 136,
   "outputs": [
    {
     "name": "stdout",
     "output_type": "stream",
     "text": [
      "[[139  12]\n",
      " [ 53  27]]\n"
     ]
    }
   ],
   "source": [
    "# printing the confusion matrix\n",
    "from sklearn.metrics import confusion_matrix\n",
    "cm = confusion_matrix(y_test, y_pred)\n",
    "print(cm)"
   ],
   "metadata": {
    "collapsed": false,
    "pycharm": {
     "name": "#%%\n"
    }
   }
  },
  {
   "cell_type": "code",
   "execution_count": 137,
   "outputs": [],
   "source": [
    "# performing LDA on the dataset\n",
    "from sklearn.discriminant_analysis import LinearDiscriminantAnalysis\n",
    "lda = LinearDiscriminantAnalysis(n_components = 1)\n",
    "X_train = lda.fit_transform(X_train, y_train)\n",
    "X_test = lda.transform(X_test)"
   ],
   "metadata": {
    "collapsed": false,
    "pycharm": {
     "name": "#%%\n"
    }
   }
  },
  {
   "cell_type": "code",
   "execution_count": 138,
   "outputs": [
    {
     "name": "stdout",
     "output_type": "stream",
     "text": [
      "[[-1.65117210e+00]\n",
      " [-4.10235066e-01]\n",
      " [ 5.65450211e-01]\n",
      " [ 7.34716355e-02]\n",
      " [ 4.38611397e-01]\n",
      " [-1.03282167e+00]\n",
      " [-7.93300575e-02]\n",
      " [ 1.19775865e-01]\n",
      " [ 1.13250053e+00]\n",
      " [-9.14987639e-01]\n",
      " [-1.51061542e+00]\n",
      " [ 7.03966915e-01]\n",
      " [-9.23635140e-01]\n",
      " [-5.02915022e-01]\n",
      " [ 9.85000759e-02]\n",
      " [ 1.69999127e+00]\n",
      " [-1.05477025e+00]\n",
      " [ 2.34243170e-01]\n",
      " [-3.20924590e-01]\n",
      " [-5.11183579e-01]\n",
      " [-3.92634003e+00]\n",
      " [ 1.16254154e+00]\n",
      " [-1.39176610e+00]\n",
      " [-4.18239592e-01]\n",
      " [ 1.29907248e+00]\n",
      " [-7.34168726e-01]\n",
      " [ 3.81037918e-01]\n",
      " [-9.27165700e-01]\n",
      " [-1.31508011e+00]\n",
      " [ 8.59977647e-01]\n",
      " [ 5.25679839e-01]\n",
      " [-6.60768042e-01]\n",
      " [-1.86379427e+00]\n",
      " [-4.68582119e-01]\n",
      " [-1.05780651e+00]\n",
      " [ 3.07260435e-01]\n",
      " [-2.36989378e-01]\n",
      " [-1.52704414e+00]\n",
      " [ 3.87388040e-02]\n",
      " [-4.80770567e-01]\n",
      " [-3.55399904e-01]\n",
      " [ 1.29111444e+00]\n",
      " [ 1.10183972e+00]\n",
      " [ 2.88373019e-01]\n",
      " [-7.21669095e-01]\n",
      " [-1.15821553e+00]\n",
      " [ 1.15552281e+00]\n",
      " [-7.58356960e-01]\n",
      " [-6.23338126e-01]\n",
      " [-1.06239894e-01]\n",
      " [ 1.53570364e+00]\n",
      " [ 1.98692436e+00]\n",
      " [ 2.74276079e+00]\n",
      " [-7.03586199e-01]\n",
      " [ 2.45893073e-03]\n",
      " [ 1.88394036e+00]\n",
      " [ 1.58468067e+00]\n",
      " [-1.75774155e+00]\n",
      " [ 1.87035917e+00]\n",
      " [-6.82297393e-01]\n",
      " [-4.50173663e-01]\n",
      " [ 1.99178280e+00]\n",
      " [-2.98353982e-01]\n",
      " [ 3.87731653e-01]\n",
      " [-7.77339938e-01]\n",
      " [-5.66971431e-01]\n",
      " [ 1.76070106e+00]\n",
      " [ 2.95618709e-02]\n",
      " [-1.20153766e-01]\n",
      " [-3.47535201e-01]\n",
      " [ 1.12616458e+00]\n",
      " [ 1.56232826e+00]\n",
      " [-1.77469117e+00]\n",
      " [-1.21438495e+00]\n",
      " [-1.83616363e+00]\n",
      " [-3.51497680e+00]\n",
      " [ 8.00131694e-01]\n",
      " [-2.85372833e+00]\n",
      " [-1.66293579e+00]\n",
      " [-9.67566822e-01]\n",
      " [ 2.76301985e+00]\n",
      " [ 1.80644258e+00]\n",
      " [-2.07379289e+00]\n",
      " [ 1.10942180e-01]\n",
      " [-1.00068042e+00]\n",
      " [ 1.68715897e+00]\n",
      " [-9.61220357e-01]\n",
      " [-1.69592151e+00]\n",
      " [-1.19967105e+00]\n",
      " [ 5.00648330e-01]\n",
      " [ 2.29849384e-01]\n",
      " [ 2.99822770e+00]\n",
      " [-2.09073915e+00]\n",
      " [-3.09221095e-01]\n",
      " [ 3.68529043e-01]\n",
      " [-4.14875413e-01]\n",
      " [-3.31192797e-01]\n",
      " [ 7.82338846e-01]\n",
      " [-3.95525003e+00]\n",
      " [-3.25076884e-01]\n",
      " [-1.15476916e+00]\n",
      " [-1.88354701e+00]\n",
      " [ 3.42395325e-01]\n",
      " [-5.19808607e-01]\n",
      " [-1.28325959e+00]\n",
      " [ 2.33236655e+00]\n",
      " [ 1.35876099e+00]\n",
      " [-7.91418511e-01]\n",
      " [-8.58422312e-01]\n",
      " [ 7.92969066e-01]\n",
      " [-8.26549818e-01]\n",
      " [-9.06927759e-02]\n",
      " [ 1.26088755e+00]\n",
      " [ 1.44612969e+00]\n",
      " [ 2.88671515e+00]\n",
      " [-1.85657161e+00]\n",
      " [-7.85270688e-01]\n",
      " [-1.07330463e+00]\n",
      " [ 1.58921941e-01]\n",
      " [-5.44375762e-01]\n",
      " [ 3.71300662e-01]\n",
      " [ 2.46315553e+00]\n",
      " [ 1.87274546e+00]\n",
      " [ 7.93363063e-02]\n",
      " [-2.79480322e-01]\n",
      " [ 6.79072196e-01]\n",
      " [-9.77774768e-03]\n",
      " [-3.65810852e-01]\n",
      " [ 4.96285488e-01]\n",
      " [ 7.41797068e-01]\n",
      " [ 1.63128857e+00]\n",
      " [ 8.78377597e-01]\n",
      " [ 1.57661387e-01]\n",
      " [-1.39714984e+00]\n",
      " [-1.18977396e+00]\n",
      " [-7.19249849e-01]\n",
      " [-1.14468750e+00]\n",
      " [ 4.07091515e-01]\n",
      " [ 4.62280133e-01]\n",
      " [-2.38245583e+00]\n",
      " [-2.43373305e+00]\n",
      " [ 1.19160035e+00]\n",
      " [ 8.73817295e-01]\n",
      " [ 1.20017519e+00]\n",
      " [-1.24383312e+00]\n",
      " [ 9.49319871e-01]\n",
      " [ 5.24889005e-01]\n",
      " [-2.90695778e-01]\n",
      " [ 2.95037046e-01]\n",
      " [ 2.85664647e-01]\n",
      " [ 1.77895743e+00]\n",
      " [ 3.69693372e+00]\n",
      " [ 1.64887666e+00]\n",
      " [ 5.27045444e-03]\n",
      " [-5.73441835e-01]\n",
      " [ 1.04668351e+00]\n",
      " [-3.04046709e-02]\n",
      " [-2.00518130e+00]\n",
      " [-2.54993468e-01]\n",
      " [ 1.78700611e-01]\n",
      " [-1.59290130e+00]\n",
      " [-5.81944873e-01]\n",
      " [ 1.55150944e+00]\n",
      " [ 1.13692901e+00]\n",
      " [ 2.66182062e+00]\n",
      " [ 6.59982765e-01]\n",
      " [ 1.77010735e+00]\n",
      " [ 1.28225498e+00]\n",
      " [ 7.31701674e-01]\n",
      " [-1.43905310e-02]\n",
      " [-5.99003237e-01]\n",
      " [-1.37984482e+00]\n",
      " [-5.80907774e-01]\n",
      " [-5.84154193e-01]\n",
      " [-1.53791035e-01]\n",
      " [ 2.32899650e-01]\n",
      " [ 1.76938573e+00]\n",
      " [ 4.26580696e-01]\n",
      " [-1.45148285e-01]\n",
      " [-1.03515071e-01]\n",
      " [-7.14741133e-01]\n",
      " [-1.92026310e-01]\n",
      " [ 1.98659480e-01]\n",
      " [-4.49997409e-01]\n",
      " [ 2.07655020e+00]\n",
      " [ 1.34543118e+00]\n",
      " [-1.53498041e+00]\n",
      " [ 2.12959016e+00]\n",
      " [ 1.89368236e-01]\n",
      " [-3.51089798e-01]\n",
      " [ 4.03680736e-01]\n",
      " [-4.82112997e-01]\n",
      " [-7.93595249e-01]\n",
      " [-5.38471586e-01]\n",
      " [-3.65444446e-01]\n",
      " [ 2.31920967e+00]\n",
      " [ 4.28960886e-01]\n",
      " [ 1.20298580e-01]\n",
      " [-1.11935010e+00]\n",
      " [-9.80385537e-01]\n",
      " [-5.21891630e-01]\n",
      " [ 1.51168991e+00]\n",
      " [ 3.23037347e+00]\n",
      " [ 6.04254614e-01]\n",
      " [ 1.98222932e-01]\n",
      " [-1.09725293e+00]\n",
      " [-1.13909760e+00]\n",
      " [ 6.00747417e-01]\n",
      " [-1.12184903e+00]\n",
      " [ 3.29119228e-01]\n",
      " [-4.98636546e-01]\n",
      " [ 2.00863140e+00]\n",
      " [-2.14886220e+00]\n",
      " [ 2.88042466e-01]\n",
      " [ 2.95215197e-01]\n",
      " [ 2.21154177e-01]\n",
      " [ 8.05900800e-01]\n",
      " [-4.90235178e-01]\n",
      " [ 1.07005803e+00]\n",
      " [-3.45995315e-01]\n",
      " [-4.37093765e-01]\n",
      " [ 1.03926875e+00]\n",
      " [ 2.87234074e+00]\n",
      " [-9.45785547e-01]\n",
      " [-1.28157835e+00]\n",
      " [ 1.30645047e+00]\n",
      " [ 1.82741054e+00]\n",
      " [-5.84127938e-01]\n",
      " [-3.79447928e-01]\n",
      " [-1.58301535e+00]\n",
      " [ 3.00759630e-01]\n",
      " [-8.29264841e-01]\n",
      " [-9.80525213e-02]\n",
      " [ 6.43516756e-01]\n",
      " [-1.35674302e+00]\n",
      " [-2.54281587e+00]\n",
      " [-2.33849315e-01]\n",
      " [-6.74667942e-01]\n",
      " [ 1.52838933e+00]\n",
      " [ 2.39018190e+00]\n",
      " [ 9.27709303e-01]\n",
      " [ 2.70922430e-01]\n",
      " [ 5.53881689e-01]\n",
      " [ 5.21945085e-01]\n",
      " [ 1.50144119e-01]\n",
      " [ 1.06138841e+00]\n",
      " [-8.72564739e-01]\n",
      " [-1.63167906e+00]\n",
      " [-1.11990482e+00]\n",
      " [-8.65597313e-01]\n",
      " [-1.71747191e+00]\n",
      " [-4.46216424e-02]\n",
      " [ 1.04154347e+00]\n",
      " [-8.45963538e-01]\n",
      " [ 1.61767761e+00]\n",
      " [ 1.28612102e+00]\n",
      " [-1.10983390e+00]\n",
      " [ 5.79364257e-01]\n",
      " [ 8.06100862e-01]\n",
      " [-1.26674767e+00]\n",
      " [ 1.57279412e+00]\n",
      " [-1.90428847e+00]\n",
      " [ 1.27057656e+00]\n",
      " [ 4.47478221e-01]\n",
      " [-1.85514539e+00]\n",
      " [ 6.22994755e-01]\n",
      " [ 2.54316151e-01]\n",
      " [ 1.99293791e-01]\n",
      " [-9.97519218e-01]\n",
      " [ 1.89552445e+00]\n",
      " [-6.08664376e-01]\n",
      " [ 3.02663658e-01]\n",
      " [ 1.71046065e+00]\n",
      " [ 1.75295895e+00]\n",
      " [-3.19177186e-01]\n",
      " [ 1.40458038e+00]\n",
      " [ 1.81471263e+00]\n",
      " [ 8.62435035e-01]\n",
      " [-3.74550850e-01]\n",
      " [-1.05245502e+00]\n",
      " [-9.99872740e-01]\n",
      " [ 6.40554751e-01]\n",
      " [-6.07083118e-01]\n",
      " [-1.13985214e-01]\n",
      " [-9.88161448e-01]\n",
      " [-2.97970294e-01]\n",
      " [-6.31803922e-01]\n",
      " [ 7.93423671e-02]\n",
      " [ 3.92466410e-01]\n",
      " [ 1.59543087e+00]\n",
      " [-5.44068771e-01]\n",
      " [-1.18334991e+00]\n",
      " [-2.41790473e-01]\n",
      " [ 1.40237050e+00]\n",
      " [-6.58710056e-01]\n",
      " [ 3.45531556e-01]\n",
      " [-1.83394393e+00]\n",
      " [-1.48559800e+00]\n",
      " [-4.34368447e-01]\n",
      " [-1.63354388e+00]\n",
      " [ 2.12011618e+00]\n",
      " [-6.93619328e-01]\n",
      " [-1.01951287e+00]\n",
      " [ 4.97731905e-01]\n",
      " [ 1.75833276e+00]\n",
      " [-1.62602133e+00]\n",
      " [-1.15940726e+00]\n",
      " [ 1.94841560e+00]\n",
      " [-6.73734664e-01]\n",
      " [ 8.81400764e-01]\n",
      " [-6.73906202e-01]\n",
      " [-1.02756452e+00]\n",
      " [ 1.04154264e+00]\n",
      " [-1.68133070e+00]\n",
      " [ 1.03957132e+00]\n",
      " [-2.84279186e-01]\n",
      " [-8.24071198e-01]\n",
      " [-5.44879173e-01]\n",
      " [ 1.71692972e-01]\n",
      " [ 2.58286201e-01]\n",
      " [-3.86049831e-01]\n",
      " [-8.38668278e-01]\n",
      " [-9.58343759e-01]\n",
      " [-1.18235034e+00]\n",
      " [-2.24005739e-01]\n",
      " [-1.32348354e+00]\n",
      " [-3.92325482e-01]\n",
      " [ 1.34716952e+00]\n",
      " [ 8.48996433e-01]\n",
      " [-1.52682720e+00]\n",
      " [-1.09993988e+00]\n",
      " [-7.83139273e-02]\n",
      " [ 2.14824330e+00]\n",
      " [ 8.68694642e-01]\n",
      " [-1.66509616e+00]\n",
      " [ 2.35738774e-01]\n",
      " [-9.43812775e-01]\n",
      " [-1.17340753e+00]\n",
      " [-1.10273200e+00]\n",
      " [ 5.57905637e-01]\n",
      " [-6.99765002e-01]\n",
      " [-6.68243833e-01]\n",
      " [-1.64954056e+00]\n",
      " [-6.87919393e-01]\n",
      " [-2.11845856e+00]\n",
      " [ 4.61112177e-01]\n",
      " [ 8.55325309e-01]\n",
      " [-1.82587517e-02]\n",
      " [ 5.89270962e-03]\n",
      " [ 5.16862377e-01]\n",
      " [-1.32382297e+00]\n",
      " [-7.79017884e-01]\n",
      " [-9.97399703e-01]\n",
      " [ 4.96980952e-01]\n",
      " [-1.41259553e-01]\n",
      " [ 2.06582168e+00]\n",
      " [ 1.89198076e+00]\n",
      " [-2.77389517e-01]\n",
      " [ 6.87179082e-02]\n",
      " [ 2.03012325e+00]\n",
      " [ 4.98028133e-01]\n",
      " [ 7.12163231e-01]\n",
      " [-9.60077309e-01]\n",
      " [-1.28759688e+00]\n",
      " [-7.24342519e-01]\n",
      " [-1.39941852e+00]\n",
      " [-1.99818470e+00]\n",
      " [ 1.80259758e+00]\n",
      " [-5.12991980e-01]\n",
      " [ 2.02125935e-01]\n",
      " [-7.27209941e-01]\n",
      " [ 1.31800031e+00]\n",
      " [-3.30944460e-01]\n",
      " [-4.50190139e-01]\n",
      " [ 7.75819638e-02]\n",
      " [ 1.10112194e+00]\n",
      " [ 3.40905247e-01]\n",
      " [-1.68737649e+00]\n",
      " [-8.91395732e-01]\n",
      " [-1.34065228e+00]\n",
      " [-1.16267690e+00]\n",
      " [-1.52349109e-01]\n",
      " [-1.68901017e-02]\n",
      " [-5.41057041e-01]\n",
      " [-7.86548668e-01]\n",
      " [ 5.56258402e-01]\n",
      " [ 4.36626645e-01]\n",
      " [ 1.03850320e+00]\n",
      " [ 1.16287151e+00]\n",
      " [-1.92073694e-01]\n",
      " [-4.27815192e-01]\n",
      " [ 3.72338509e-01]\n",
      " [-4.82632331e-01]\n",
      " [-1.68794605e-01]\n",
      " [ 2.71156853e+00]\n",
      " [-1.50661282e-01]\n",
      " [-8.70314908e-01]\n",
      " [ 3.83255986e-01]\n",
      " [-5.17383756e-01]\n",
      " [ 1.45455930e+00]\n",
      " [-1.12792478e-03]\n",
      " [ 6.08344481e-01]\n",
      " [ 8.42220337e-01]\n",
      " [-7.69565776e-01]\n",
      " [-1.42473456e+00]\n",
      " [-9.86367082e-02]\n",
      " [-1.20404444e-01]\n",
      " [-1.32946251e+00]\n",
      " [ 1.02174522e+00]\n",
      " [ 3.05197053e+00]\n",
      " [-9.53484838e-01]\n",
      " [-6.96426301e-02]\n",
      " [-4.53454158e-01]\n",
      " [ 2.45556142e-03]\n",
      " [ 1.82554648e+00]\n",
      " [ 9.54678232e-01]\n",
      " [-7.43929083e-01]\n",
      " [ 1.79354205e+00]\n",
      " [ 3.21319627e+00]\n",
      " [-1.03380684e+00]\n",
      " [-8.04759117e-01]\n",
      " [ 2.04995104e-02]\n",
      " [-2.16843255e+00]\n",
      " [-1.87884963e+00]\n",
      " [-1.65761131e+00]\n",
      " [-6.58947320e-01]\n",
      " [-1.59989765e+00]\n",
      " [-1.66538357e+00]\n",
      " [ 1.31705195e-01]\n",
      " [ 1.11694407e+00]\n",
      " [ 2.59808362e+00]\n",
      " [ 2.02138503e+00]\n",
      " [-1.55382518e+00]\n",
      " [-2.12204975e+00]\n",
      " [ 2.01583128e+00]\n",
      " [ 7.07577382e-01]\n",
      " [ 2.00413883e+00]\n",
      " [-4.55929155e-02]\n",
      " [-2.18489673e+00]\n",
      " [-3.18678658e-02]\n",
      " [ 1.54157593e+00]\n",
      " [-3.48431315e-02]\n",
      " [ 3.39222153e-02]\n",
      " [-2.26288426e+00]\n",
      " [ 2.93650703e-01]\n",
      " [ 1.23748557e+00]\n",
      " [-1.31761502e+00]\n",
      " [ 1.42050281e+00]\n",
      " [-5.61666392e-01]\n",
      " [-5.37427495e-02]\n",
      " [ 1.23809612e-01]\n",
      " [-1.80996664e-01]\n",
      " [-1.41190302e+00]\n",
      " [ 1.29958613e-01]\n",
      " [ 1.07766547e+00]\n",
      " [-4.20804555e-01]\n",
      " [-2.21995209e+00]\n",
      " [ 2.07348436e+00]\n",
      " [-5.62353703e-01]\n",
      " [ 6.38714973e-01]\n",
      " [ 6.75719727e-01]\n",
      " [ 2.04073778e-01]\n",
      " [-3.40509144e-01]\n",
      " [ 5.90303533e-01]\n",
      " [-5.58282702e-01]\n",
      " [-3.91451127e-01]\n",
      " [-1.25825180e+00]\n",
      " [-5.69819148e-01]\n",
      " [-1.45590675e+00]\n",
      " [-3.66713990e-01]\n",
      " [ 2.28493764e+00]\n",
      " [-1.09382543e+00]\n",
      " [-9.60027974e-01]\n",
      " [ 2.83517852e-01]\n",
      " [-1.15851204e+00]\n",
      " [ 1.66045952e+00]\n",
      " [-3.32196814e-01]\n",
      " [-2.41531300e-01]\n",
      " [-4.21360620e-02]\n",
      " [ 2.31371193e+00]\n",
      " [-1.02631144e+00]\n",
      " [ 1.01166610e+00]\n",
      " [-1.01487048e+00]\n",
      " [ 1.84995733e+00]\n",
      " [-3.89585271e-01]\n",
      " [-1.16559231e+00]\n",
      " [ 6.40025511e-01]\n",
      " [-1.73680091e+00]\n",
      " [ 3.95071641e-01]\n",
      " [ 2.60696262e+00]\n",
      " [ 3.81076177e-01]\n",
      " [ 1.95504713e+00]\n",
      " [ 3.32578897e-01]\n",
      " [-2.03752336e-01]\n",
      " [ 6.03475435e-02]\n",
      " [-5.43646577e-01]\n",
      " [-8.51722989e-01]\n",
      " [-6.87247617e-01]\n",
      " [ 8.78488353e-02]\n",
      " [ 8.55132713e-01]\n",
      " [ 5.04539431e-01]\n",
      " [ 1.93293091e+00]\n",
      " [-4.57930246e-01]\n",
      " [ 1.82473011e+00]\n",
      " [-6.43498008e-01]\n",
      " [ 8.24556043e-01]\n",
      " [-1.79792184e+00]\n",
      " [ 2.65464974e-01]\n",
      " [-4.26695060e-01]\n",
      " [ 1.41735801e+00]\n",
      " [ 5.16338595e-01]\n",
      " [-7.03057182e-01]\n",
      " [ 4.75526637e-01]\n",
      " [-1.05492796e+00]\n",
      " [-3.91785057e-01]\n",
      " [-7.07851802e-01]\n",
      " [ 1.60956088e-01]\n",
      " [-4.11621509e-02]\n",
      " [ 2.65625663e+00]\n",
      " [ 1.10571825e+00]\n",
      " [ 1.37648955e+00]\n",
      " [ 8.29275205e-01]\n",
      " [-1.08644540e+00]\n",
      " [-3.66853985e-01]\n",
      " [ 1.80657723e+00]\n",
      " [ 1.76415896e-01]\n",
      " [-1.86796590e-03]\n",
      " [-1.86341020e+00]\n",
      " [-2.56227692e-01]\n",
      " [ 1.46193372e+00]\n",
      " [ 2.88466221e-01]\n",
      " [-7.38921150e-02]\n",
      " [ 4.88307491e-02]\n",
      " [-2.03342070e+00]\n",
      " [ 9.87340233e-01]\n",
      " [ 1.52646222e+00]\n",
      " [-1.27103028e+00]]\n",
      "[[-0.07108226]\n",
      " [-0.48032623]\n",
      " [-0.81462814]\n",
      " [-0.57748454]\n",
      " [ 0.67457875]\n",
      " [ 0.52206012]\n",
      " [-2.42034982]\n",
      " [ 0.9439466 ]\n",
      " [ 0.82890869]\n",
      " [ 1.66863842]\n",
      " [-0.20268576]\n",
      " [ 2.28560812]\n",
      " [ 0.34473979]\n",
      " [-0.04253153]\n",
      " [-1.26925968]\n",
      " [ 0.19064206]\n",
      " [-0.79350371]\n",
      " [-1.25465197]\n",
      " [ 1.9526513 ]\n",
      " [ 0.84673024]\n",
      " [-0.26165567]\n",
      " [-1.17386783]\n",
      " [ 0.55598777]\n",
      " [-1.02700785]\n",
      " [ 0.7707876 ]\n",
      " [ 2.11948593]\n",
      " [-0.86392233]\n",
      " [-1.80307005]\n",
      " [-0.1347952 ]\n",
      " [-0.82957746]\n",
      " [ 2.2155821 ]\n",
      " [ 2.1055247 ]\n",
      " [ 1.67878448]\n",
      " [ 1.69869223]\n",
      " [ 1.01064462]\n",
      " [ 1.18116462]\n",
      " [ 2.88872397]\n",
      " [-0.25914562]\n",
      " [ 0.66933845]\n",
      " [ 1.26403119]\n",
      " [-1.30535394]\n",
      " [ 0.94398963]\n",
      " [ 0.81747176]\n",
      " [ 0.07142794]\n",
      " [-1.86401802]\n",
      " [ 0.72207562]\n",
      " [ 0.95368968]\n",
      " [-0.38898387]\n",
      " [ 0.20895122]\n",
      " [ 2.98884387]\n",
      " [-1.57263003]\n",
      " [ 1.16670896]\n",
      " [ 1.81042418]\n",
      " [-0.14743998]\n",
      " [-0.83517227]\n",
      " [-1.71701832]\n",
      " [ 1.67060838]\n",
      " [-3.20421563]\n",
      " [ 0.27978058]\n",
      " [ 1.55741129]\n",
      " [ 1.35101467]\n",
      " [ 0.13218172]\n",
      " [-0.08322192]\n",
      " [-0.29721181]\n",
      " [-1.13999182]\n",
      " [ 0.91163216]\n",
      " [-1.57326937]\n",
      " [ 1.49252082]\n",
      " [-1.6823789 ]\n",
      " [ 1.59346138]\n",
      " [ 1.26686776]\n",
      " [-1.25956824]\n",
      " [-0.42631257]\n",
      " [-0.84789741]\n",
      " [-1.01428898]\n",
      " [ 0.69106134]\n",
      " [-0.48992107]\n",
      " [-0.80552238]\n",
      " [-0.68317291]\n",
      " [-0.14064134]\n",
      " [ 1.15037174]\n",
      " [-0.7303707 ]\n",
      " [-1.39600388]\n",
      " [ 0.3274145 ]\n",
      " [-0.14591097]\n",
      " [ 1.98402915]\n",
      " [ 2.15768233]\n",
      " [ 0.05793148]\n",
      " [-0.83956932]\n",
      " [-1.10410903]\n",
      " [-1.33323884]\n",
      " [-0.19143199]\n",
      " [-3.42253007]\n",
      " [ 0.65487888]\n",
      " [ 0.64252241]\n",
      " [ 0.99304623]\n",
      " [ 0.19961979]\n",
      " [-0.86179081]\n",
      " [ 1.1819307 ]\n",
      " [-1.13615056]\n",
      " [ 1.38109518]\n",
      " [-1.37474489]\n",
      " [ 1.53526334]\n",
      " [ 0.73896136]\n",
      " [ 1.08972163]\n",
      " [-0.24238637]\n",
      " [-0.16076982]\n",
      " [ 1.40618466]\n",
      " [-0.92236181]\n",
      " [ 0.55925652]\n",
      " [-1.07986746]\n",
      " [ 0.23614069]\n",
      " [-2.30035748]\n",
      " [ 1.55397978]\n",
      " [-0.45289957]\n",
      " [ 0.03022203]\n",
      " [ 1.37454509]\n",
      " [-0.29106863]\n",
      " [-1.3426662 ]\n",
      " [ 0.72234047]\n",
      " [-1.34801299]\n",
      " [-0.17258788]\n",
      " [-0.28318096]\n",
      " [-1.29504628]\n",
      " [-0.02319545]\n",
      " [ 0.4153119 ]\n",
      " [-1.7678158 ]\n",
      " [ 1.96376722]\n",
      " [ 2.96434433]\n",
      " [ 1.41630485]\n",
      " [ 1.2911266 ]\n",
      " [ 1.91643239]\n",
      " [-1.04451494]\n",
      " [ 0.4440667 ]\n",
      " [ 1.7577569 ]\n",
      " [-0.80288344]\n",
      " [-0.54548612]\n",
      " [ 2.04475505]\n",
      " [ 1.67687392]\n",
      " [-2.5396273 ]\n",
      " [-1.03959706]\n",
      " [-1.65352815]\n",
      " [-0.2504323 ]\n",
      " [ 0.48107357]\n",
      " [-0.7777471 ]\n",
      " [-0.1552625 ]\n",
      " [-0.86056955]\n",
      " [-2.19608611]\n",
      " [ 0.34277206]\n",
      " [ 1.55535071]\n",
      " [-1.03461763]\n",
      " [ 0.58439277]\n",
      " [-0.04959251]\n",
      " [-0.55649217]\n",
      " [-3.12716521]\n",
      " [ 0.39864937]\n",
      " [ 0.05044954]\n",
      " [ 1.19832636]\n",
      " [ 1.48641966]\n",
      " [-0.6335559 ]\n",
      " [ 0.63037338]\n",
      " [ 1.14151773]\n",
      " [-0.4683615 ]\n",
      " [-2.32243163]\n",
      " [-0.84249806]\n",
      " [ 1.99997399]\n",
      " [-1.53706304]\n",
      " [ 0.0366413 ]\n",
      " [ 1.65936193]\n",
      " [ 0.72022396]\n",
      " [ 1.03143098]\n",
      " [-0.52903221]\n",
      " [ 0.16996826]\n",
      " [ 1.34549871]\n",
      " [ 1.09243325]\n",
      " [-1.06209512]\n",
      " [ 0.02711115]\n",
      " [-0.11574961]\n",
      " [-0.26110567]\n",
      " [ 0.070858  ]\n",
      " [ 0.77531823]\n",
      " [ 0.88179495]\n",
      " [ 0.30246602]\n",
      " [ 1.44771512]\n",
      " [ 0.9833186 ]\n",
      " [-1.06163559]\n",
      " [-1.60829947]\n",
      " [-0.82285899]\n",
      " [ 1.98161064]\n",
      " [ 0.24601554]\n",
      " [-1.34105984]\n",
      " [-1.06519744]\n",
      " [ 2.06670904]\n",
      " [-0.14615902]\n",
      " [-1.16308076]\n",
      " [-1.442454  ]\n",
      " [-3.25835749]\n",
      " [-1.29373444]\n",
      " [-0.2529856 ]\n",
      " [ 1.2379309 ]\n",
      " [-0.73163473]\n",
      " [-0.87488376]\n",
      " [ 0.19113775]\n",
      " [-0.10381955]\n",
      " [ 1.18399978]\n",
      " [-1.05028453]\n",
      " [-0.99291207]\n",
      " [-0.17876223]\n",
      " [ 2.26675525]\n",
      " [ 1.02338643]\n",
      " [-0.06862504]\n",
      " [-0.35947314]\n",
      " [-0.68846844]\n",
      " [-0.83035658]\n",
      " [ 1.39343308]\n",
      " [-1.05286185]\n",
      " [ 1.65260558]\n",
      " [-0.04291613]\n",
      " [ 0.17163379]\n",
      " [ 2.06460086]\n",
      " [ 0.95102722]\n",
      " [-0.92217413]\n",
      " [-1.1830662 ]\n",
      " [-0.55905889]\n",
      " [-1.27617577]\n",
      " [ 1.38479769]\n",
      " [ 0.07362593]\n",
      " [-0.13968223]\n",
      " [-0.02387465]\n",
      " [-0.41385829]\n",
      " [-0.94500259]]\n"
     ]
    }
   ],
   "source": [
    "print(X_train)\n",
    "print(X_test)"
   ],
   "metadata": {
    "collapsed": false,
    "pycharm": {
     "name": "#%%# printing the transformed dataset\n"
    }
   }
  },
  {
   "cell_type": "code",
   "execution_count": 139,
   "outputs": [],
   "source": [
    "# assigning the outcomes for the transformed dataset based on the positive and negative of X_test\n",
    "y_pred = []\n",
    "for i in range(len(X_test)):\n",
    "    if X_test[i] > 0:\n",
    "        y_pred.append(1)\n",
    "    else:\n",
    "        y_pred.append(0)"
   ],
   "metadata": {
    "collapsed": false,
    "pycharm": {
     "name": "#%%\n"
    }
   }
  },
  {
   "cell_type": "code",
   "execution_count": 140,
   "outputs": [
    {
     "name": "stdout",
     "output_type": "stream",
     "text": [
      "[0, 0, 0, 0, 1, 1, 0, 1, 1, 1, 0, 1, 1, 0, 0, 1, 0, 0, 1, 1, 0, 0, 1, 0, 1, 1, 0, 0, 0, 0, 1, 1, 1, 1, 1, 1, 1, 0, 1, 1, 0, 1, 1, 1, 0, 1, 1, 0, 1, 1, 0, 1, 1, 0, 0, 0, 1, 0, 1, 1, 1, 1, 0, 0, 0, 1, 0, 1, 0, 1, 1, 0, 0, 0, 0, 1, 0, 0, 0, 0, 1, 0, 0, 1, 0, 1, 1, 1, 0, 0, 0, 0, 0, 1, 1, 1, 1, 0, 1, 0, 1, 0, 1, 1, 1, 0, 0, 1, 0, 1, 0, 1, 0, 1, 0, 1, 1, 0, 0, 1, 0, 0, 0, 0, 0, 1, 0, 1, 1, 1, 1, 1, 0, 1, 1, 0, 0, 1, 1, 0, 0, 0, 0, 1, 0, 0, 0, 0, 1, 1, 0, 1, 0, 0, 0, 1, 1, 1, 1, 0, 1, 1, 0, 0, 0, 1, 0, 1, 1, 1, 1, 0, 1, 1, 1, 0, 1, 0, 0, 1, 1, 1, 1, 1, 1, 0, 0, 0, 1, 1, 0, 0, 1, 0, 0, 0, 0, 0, 0, 1, 0, 0, 1, 0, 1, 0, 0, 0, 1, 1, 0, 0, 0, 0, 1, 0, 1, 0, 1, 1, 1, 0, 0, 0, 0, 1, 1, 0, 0, 0, 0]\n"
     ]
    }
   ],
   "source": [
    "# printing the predicted outcomes\n",
    "print(y_pred)"
   ],
   "metadata": {
    "collapsed": false,
    "pycharm": {
     "name": "#%%\n"
    }
   }
  },
  {
   "cell_type": "code",
   "execution_count": 141,
   "outputs": [
    {
     "name": "stdout",
     "output_type": "stream",
     "text": [
      "668    0\n",
      "324    0\n",
      "624    0\n",
      "690    0\n",
      "473    0\n",
      "      ..\n",
      "619    1\n",
      "198    1\n",
      "538    0\n",
      "329    0\n",
      "302    0\n",
      "Name: Unnamed: 8, Length: 231, dtype: int64\n"
     ]
    }
   ],
   "source": [
    "# printing the actual outcomes\n",
    "print(y_test)"
   ],
   "metadata": {
    "collapsed": false,
    "pycharm": {
     "name": "#%%\n"
    }
   }
  },
  {
   "cell_type": "code",
   "execution_count": 142,
   "outputs": [
    {
     "name": "stdout",
     "output_type": "stream",
     "text": [
      "0.696969696969697\n"
     ]
    }
   ],
   "source": [
    "# calculating the accuracy of the model\n",
    "from sklearn.metrics import accuracy_score\n",
    "print(accuracy_score(y_test, y_pred))"
   ],
   "metadata": {
    "collapsed": false,
    "pycharm": {
     "name": "#%%\n"
    }
   }
  },
  {
   "cell_type": "code",
   "execution_count": 143,
   "outputs": [
    {
     "name": "stdout",
     "output_type": "stream",
     "text": [
      "[[100  51]\n",
      " [ 19  61]]\n"
     ]
    }
   ],
   "source": [
    "# printing the confusion matrix\n",
    "from sklearn.metrics import confusion_matrix\n",
    "cm = confusion_matrix(y_test, y_pred)\n",
    "print(cm)"
   ],
   "metadata": {
    "collapsed": false,
    "pycharm": {
     "name": "#%%\n"
    }
   }
  },
  {
   "cell_type": "code",
   "execution_count": 144,
   "outputs": [
    {
     "data": {
      "text/plain": "DecisionTreeClassifier(max_depth=2)",
      "text/html": "<style>#sk-container-id-14 {color: black;background-color: white;}#sk-container-id-14 pre{padding: 0;}#sk-container-id-14 div.sk-toggleable {background-color: white;}#sk-container-id-14 label.sk-toggleable__label {cursor: pointer;display: block;width: 100%;margin-bottom: 0;padding: 0.3em;box-sizing: border-box;text-align: center;}#sk-container-id-14 label.sk-toggleable__label-arrow:before {content: \"▸\";float: left;margin-right: 0.25em;color: #696969;}#sk-container-id-14 label.sk-toggleable__label-arrow:hover:before {color: black;}#sk-container-id-14 div.sk-estimator:hover label.sk-toggleable__label-arrow:before {color: black;}#sk-container-id-14 div.sk-toggleable__content {max-height: 0;max-width: 0;overflow: hidden;text-align: left;background-color: #f0f8ff;}#sk-container-id-14 div.sk-toggleable__content pre {margin: 0.2em;color: black;border-radius: 0.25em;background-color: #f0f8ff;}#sk-container-id-14 input.sk-toggleable__control:checked~div.sk-toggleable__content {max-height: 200px;max-width: 100%;overflow: auto;}#sk-container-id-14 input.sk-toggleable__control:checked~label.sk-toggleable__label-arrow:before {content: \"▾\";}#sk-container-id-14 div.sk-estimator input.sk-toggleable__control:checked~label.sk-toggleable__label {background-color: #d4ebff;}#sk-container-id-14 div.sk-label input.sk-toggleable__control:checked~label.sk-toggleable__label {background-color: #d4ebff;}#sk-container-id-14 input.sk-hidden--visually {border: 0;clip: rect(1px 1px 1px 1px);clip: rect(1px, 1px, 1px, 1px);height: 1px;margin: -1px;overflow: hidden;padding: 0;position: absolute;width: 1px;}#sk-container-id-14 div.sk-estimator {font-family: monospace;background-color: #f0f8ff;border: 1px dotted black;border-radius: 0.25em;box-sizing: border-box;margin-bottom: 0.5em;}#sk-container-id-14 div.sk-estimator:hover {background-color: #d4ebff;}#sk-container-id-14 div.sk-parallel-item::after {content: \"\";width: 100%;border-bottom: 1px solid gray;flex-grow: 1;}#sk-container-id-14 div.sk-label:hover label.sk-toggleable__label {background-color: #d4ebff;}#sk-container-id-14 div.sk-serial::before {content: \"\";position: absolute;border-left: 1px solid gray;box-sizing: border-box;top: 0;bottom: 0;left: 50%;z-index: 0;}#sk-container-id-14 div.sk-serial {display: flex;flex-direction: column;align-items: center;background-color: white;padding-right: 0.2em;padding-left: 0.2em;position: relative;}#sk-container-id-14 div.sk-item {position: relative;z-index: 1;}#sk-container-id-14 div.sk-parallel {display: flex;align-items: stretch;justify-content: center;background-color: white;position: relative;}#sk-container-id-14 div.sk-item::before, #sk-container-id-14 div.sk-parallel-item::before {content: \"\";position: absolute;border-left: 1px solid gray;box-sizing: border-box;top: 0;bottom: 0;left: 50%;z-index: -1;}#sk-container-id-14 div.sk-parallel-item {display: flex;flex-direction: column;z-index: 1;position: relative;background-color: white;}#sk-container-id-14 div.sk-parallel-item:first-child::after {align-self: flex-end;width: 50%;}#sk-container-id-14 div.sk-parallel-item:last-child::after {align-self: flex-start;width: 50%;}#sk-container-id-14 div.sk-parallel-item:only-child::after {width: 0;}#sk-container-id-14 div.sk-dashed-wrapped {border: 1px dashed gray;margin: 0 0.4em 0.5em 0.4em;box-sizing: border-box;padding-bottom: 0.4em;background-color: white;}#sk-container-id-14 div.sk-label label {font-family: monospace;font-weight: bold;display: inline-block;line-height: 1.2em;}#sk-container-id-14 div.sk-label-container {text-align: center;}#sk-container-id-14 div.sk-container {/* jupyter's `normalize.less` sets `[hidden] { display: none; }` but bootstrap.min.css set `[hidden] { display: none !important; }` so we also need the `!important` here to be able to override the default hidden behavior on the sphinx rendered scikit-learn.org. See: https://github.com/scikit-learn/scikit-learn/issues/21755 */display: inline-block !important;position: relative;}#sk-container-id-14 div.sk-text-repr-fallback {display: none;}</style><div id=\"sk-container-id-14\" class=\"sk-top-container\"><div class=\"sk-text-repr-fallback\"><pre>DecisionTreeClassifier(max_depth=2)</pre><b>In a Jupyter environment, please rerun this cell to show the HTML representation or trust the notebook. <br />On GitHub, the HTML representation is unable to render, please try loading this page with nbviewer.org.</b></div><div class=\"sk-container\" hidden><div class=\"sk-item\"><div class=\"sk-estimator sk-toggleable\"><input class=\"sk-toggleable__control sk-hidden--visually\" id=\"sk-estimator-id-14\" type=\"checkbox\" checked><label for=\"sk-estimator-id-14\" class=\"sk-toggleable__label sk-toggleable__label-arrow\">DecisionTreeClassifier</label><div class=\"sk-toggleable__content\"><pre>DecisionTreeClassifier(max_depth=2)</pre></div></div></div></div></div>"
     },
     "execution_count": 144,
     "metadata": {},
     "output_type": "execute_result"
    }
   ],
   "source": [
    "# performing decision tree classification\n",
    "from sklearn.tree import DecisionTreeClassifier\n",
    "dt = DecisionTreeClassifier(max_depth=2)\n",
    "dt.fit(X_train, y_train)"
   ],
   "metadata": {
    "collapsed": false,
    "pycharm": {
     "name": "#%%\n"
    }
   }
  },
  {
   "cell_type": "code",
   "execution_count": 145,
   "outputs": [],
   "source": [
    "# predicting the test set results\n",
    "y_pred = dt.predict(X_test)"
   ],
   "metadata": {
    "collapsed": false,
    "pycharm": {
     "name": "#%%\n"
    }
   }
  },
  {
   "cell_type": "code",
   "execution_count": 146,
   "outputs": [
    {
     "name": "stdout",
     "output_type": "stream",
     "text": [
      "0.7662337662337663\n"
     ]
    }
   ],
   "source": [
    "# printing the accuracy score\n",
    "from sklearn.metrics import accuracy_score\n",
    "print(accuracy_score(y_test, y_pred))"
   ],
   "metadata": {
    "collapsed": false,
    "pycharm": {
     "name": "#%%\n"
    }
   }
  },
  {
   "cell_type": "code",
   "execution_count": 147,
   "outputs": [
    {
     "name": "stdout",
     "output_type": "stream",
     "text": [
      "[[136  15]\n",
      " [ 39  41]]\n"
     ]
    }
   ],
   "source": [
    "from sklearn.metrics import confusion_matrix\n",
    "cm = confusion_matrix(y_test, y_pred)\n",
    "print(cm)"
   ],
   "metadata": {
    "collapsed": false,
    "pycharm": {
     "name": "#%%# printing the confusion matrix\n"
    }
   }
  },
  {
   "cell_type": "markdown",
   "source": [
    "### it is clearly evident that the combined use of LDA and Decision tree classification leads to higher accuracy"
   ],
   "metadata": {
    "collapsed": false,
    "pycharm": {
     "name": "#%% md\n"
    }
   }
  }
 ],
 "metadata": {
  "kernelspec": {
   "display_name": "Python 3",
   "language": "python",
   "name": "python3"
  },
  "language_info": {
   "codemirror_mode": {
    "name": "ipython",
    "version": 2
   },
   "file_extension": ".py",
   "mimetype": "text/x-python",
   "name": "python",
   "nbconvert_exporter": "python",
   "pygments_lexer": "ipython2",
   "version": "2.7.6"
  }
 },
 "nbformat": 4,
 "nbformat_minor": 0
}