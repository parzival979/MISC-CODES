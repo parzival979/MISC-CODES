{
 "cells": [
  {
   "cell_type": "markdown",
   "source": [
    "# LAB 1 Assignment Perceptron and Neural Networks\n",
    "### Sravanth Chowdary Potluri CS20B1006"
   ],
   "metadata": {
    "collapsed": false
   }
  },
  {
   "cell_type": "markdown",
   "source": [
    "#### Problem Statement\n",
    "- Implement the Perceptron algorithm from scratch in Python.\n",
    "- Initialize the weights with [0 0 0 0] and a learning rate of 0.0001.\n",
    "- For each iteration, calculate the output of the Perceptron for each input in the training set.\n",
    "- Use MSE to computer the error for all samples\n",
    "- Update the weights using the gradient descent procedure.\n",
    "- Repeat the above steps until the Perceptron converges or a maximum number of iterations is reached.\n",
    "- Test the trained Perceptron on a separate test set.\n",
    "- Use the step function as an activation function in the output layer"
   ],
   "metadata": {
    "collapsed": false
   }
  },
  {
   "cell_type": "markdown",
   "source": [
    "#### Importing The Required Libraries"
   ],
   "metadata": {
    "collapsed": false
   }
  },
  {
   "cell_type": "code",
   "execution_count": 1,
   "metadata": {
    "collapsed": true,
    "ExecuteTime": {
     "end_time": "2024-02-03T05:56:04.940874Z",
     "start_time": "2024-02-03T05:56:04.088856Z"
    }
   },
   "outputs": [],
   "source": [
    "import numpy as np\n",
    "import pandas as pd"
   ]
  },
  {
   "cell_type": "markdown",
   "source": [
    "#### Defining The Perceptron Class"
   ],
   "metadata": {
    "collapsed": false
   }
  },
  {
   "cell_type": "code",
   "execution_count": 12,
   "outputs": [],
   "source": [
    "class Perceptron:\n",
    "    def __init__(self,learning_rate=0.0001,epochs=100):\n",
    "        self.learning_rate=learning_rate\n",
    "        self.epochs=epochs\n",
    "\n",
    "    def __activation_func(self,x):\n",
    "        return 1 if x>=0 else 0\n",
    "\n",
    "    def __predict(self,x):\n",
    "        g=(self.weights.T).dot(x)\n",
    "        return self.__activation_func(g)\n",
    "\n",
    "    def fit(self, X, y):\n",
    "        self.X = np.hstack((np.ones((len(X), 1)), X))\n",
    "        self.y = y\n",
    "        self.weights = np.zeros(len(self.X[0]))\n",
    "        self.epoch = 0\n",
    "        while self.epoch < self.epochs:\n",
    "            self.epoch = self.epoch + 1\n",
    "            self.old_W = np.copy(self.weights)\n",
    "            for index, x in enumerate(self.X):\n",
    "                self.weights = self.weights + self.learning_rate * (self.y[index] - self.__predict(x)) * x\n",
    "            if np.array_equal(self.weights, self.old_W):\n",
    "                break\n",
    "            print(f'Epoch {self.epoch} --> W: {self.weights}')\n",
    "\n",
    "    def predict(self, X):\n",
    "        if hasattr(self, 'weights'):\n",
    "            X = np.hstack((np.ones((len(X), 1)), X))\n",
    "            g = X @ self.weights\n",
    "            return np.where(g >= 0, 1, 0)\n",
    "        else:\n",
    "            print('Please run fit in order to be able to use predict')\n",
    "\n",
    "    @staticmethod\n",
    "    def accuracy(y_true,y_pred):\n",
    "        return np.sum(y_true == y_pred) / len(y_true)"
   ],
   "metadata": {
    "collapsed": false,
    "ExecuteTime": {
     "end_time": "2024-02-03T06:05:43.470042Z",
     "start_time": "2024-02-03T06:05:43.465568Z"
    }
   }
  },
  {
   "cell_type": "code",
   "execution_count": 7,
   "outputs": [
    {
     "data": {
      "text/plain": "(150, 6)"
     },
     "execution_count": 7,
     "metadata": {},
     "output_type": "execute_result"
    }
   ],
   "source": [
    "# loading the dataset\n",
    "data = pd.read_csv(\"Iris Dataset - iris.csv\")\n",
    "data.shape"
   ],
   "metadata": {
    "collapsed": false,
    "ExecuteTime": {
     "end_time": "2024-02-03T06:02:58.578933Z",
     "start_time": "2024-02-03T06:02:58.569609Z"
    }
   }
  },
  {
   "cell_type": "code",
   "execution_count": 9,
   "outputs": [
    {
     "data": {
      "text/plain": "(100, 6)"
     },
     "execution_count": 9,
     "metadata": {},
     "output_type": "execute_result"
    }
   ],
   "source": [
    "# dropping other classes except for setosa and versicolor\n",
    "data = data.drop(data[data['Species'] == 'Iris-virginica'].index)\n",
    "data.shape"
   ],
   "metadata": {
    "collapsed": false,
    "ExecuteTime": {
     "end_time": "2024-02-03T06:03:06.785267Z",
     "start_time": "2024-02-03T06:03:06.781463Z"
    }
   }
  },
  {
   "cell_type": "code",
   "execution_count": 10,
   "outputs": [],
   "source": [
    "# converting the species to 0 and 1\n",
    "data['Species'] = data['Species'].map({'Iris-setosa': 0, 'Iris-versicolor': 1})"
   ],
   "metadata": {
    "collapsed": false,
    "ExecuteTime": {
     "end_time": "2024-02-03T06:04:04.776983Z",
     "start_time": "2024-02-03T06:04:04.772506Z"
    }
   }
  },
  {
   "cell_type": "code",
   "execution_count": 11,
   "outputs": [],
   "source": [
    "# splitting the data into training and testing\n",
    "from sklearn.model_selection import train_test_split\n",
    "X = data[['SepalLengthCm', 'SepalWidthCm', 'PetalLengthCm', 'PetalWidthCm']]\n",
    "y = data['Species']\n",
    "X_train, X_test, y_train, y_test = train_test_split(X, y, test_size=0.2, random_state=42)"
   ],
   "metadata": {
    "collapsed": false,
    "ExecuteTime": {
     "end_time": "2024-02-03T06:04:22.142154Z",
     "start_time": "2024-02-03T06:04:21.282738Z"
    }
   }
  },
  {
   "cell_type": "code",
   "execution_count": 13,
   "outputs": [
    {
     "name": "stdout",
     "output_type": "stream",
     "text": [
      "Epoch 1 --> W: [-0.0001  -0.0002  -0.00064  0.00099  0.00042]\n"
     ]
    }
   ],
   "source": [
    "# training the perceptron\n",
    "perceptron = Perceptron(learning_rate=0.0001, epochs=100)\n",
    "perceptron.fit(X_train.to_numpy(), y_train.to_numpy())"
   ],
   "metadata": {
    "collapsed": false,
    "ExecuteTime": {
     "end_time": "2024-02-03T06:09:18.841998Z",
     "start_time": "2024-02-03T06:09:18.836542Z"
    }
   }
  },
  {
   "cell_type": "code",
   "execution_count": 14,
   "outputs": [
    {
     "name": "stdout",
     "output_type": "stream",
     "text": [
      "Accuracy: 1.0\n"
     ]
    }
   ],
   "source": [
    "# testing the perceptron\n",
    "y_pred = perceptron.predict(X_test.to_numpy())\n",
    "accuracy = Perceptron.accuracy(y_test.to_numpy(), y_pred)\n",
    "print(f'Accuracy: {accuracy}')"
   ],
   "metadata": {
    "collapsed": false,
    "ExecuteTime": {
     "end_time": "2024-02-03T06:09:34.684301Z",
     "start_time": "2024-02-03T06:09:34.680744Z"
    }
   }
  },
  {
   "cell_type": "markdown",
   "source": [
    "#### Conclusion\n",
    "The Perceptron has stopped learning after 1 epoch since the weights have not changed. and after using the trained perceptron to predict the test data, the accuracy is 1.0. Which is a perfect score."
   ],
   "metadata": {
    "collapsed": false
   }
  }
 ],
 "metadata": {
  "kernelspec": {
   "display_name": "Python 3",
   "language": "python",
   "name": "python3"
  },
  "language_info": {
   "codemirror_mode": {
    "name": "ipython",
    "version": 2
   },
   "file_extension": ".py",
   "mimetype": "text/x-python",
   "name": "python",
   "nbconvert_exporter": "python",
   "pygments_lexer": "ipython2",
   "version": "2.7.6"
  }
 },
 "nbformat": 4,
 "nbformat_minor": 0
}
