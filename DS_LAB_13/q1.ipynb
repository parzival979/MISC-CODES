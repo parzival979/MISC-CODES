{
 "cells": [
  {
   "cell_type": "markdown",
   "metadata": {
    "pycharm": {
     "name": "#%% md\n"
    }
   },
   "source": [
    "# DS LAB 13 PART 1"
   ]
  },
  {
   "cell_type": "code",
   "execution_count": 7,
   "metadata": {
    "collapsed": true,
    "pycharm": {
     "name": "#%%\n"
    }
   },
   "outputs": [],
   "source": [
    "import pandas as pd\n",
    "from sklearn.model_selection import train_test_split\n",
    "from sklearn.neighbors import KNeighborsClassifier\n",
    "from sklearn.metrics import accuracy_score\n",
    "from sklearn.metrics import confusion_matrix"
   ]
  },
  {
   "cell_type": "code",
   "execution_count": 8,
   "metadata": {
    "pycharm": {
     "name": "#%%\n"
    }
   },
   "outputs": [],
   "source": [
    "req_df = pd.read_csv('SteelPlateFaults-2class.csv')\n",
    "\n",
    "#split the data into train and test\n",
    "X_train, X_test, X_label_train, X_label_test = train_test_split(req_df,req_df['Class'],test_size=0.3, random_state=42)"
   ]
  },
  {
   "cell_type": "code",
   "execution_count": 9,
   "metadata": {
    "pycharm": {
     "name": "#%%\n"
    }
   },
   "outputs": [],
   "source": [
    "#drop the class column from the train and test data\n",
    "X_train = X_train.drop('Class',axis=1)\n",
    "X_test = X_test.drop('Class',axis=1)"
   ]
  },
  {
   "cell_type": "code",
   "execution_count": 10,
   "metadata": {
    "pycharm": {
     "name": "#%%\n"
    }
   },
   "outputs": [
    {
     "name": "stdout",
     "output_type": "stream",
     "text": [
      "The Predicted Values Are\n",
      "[1 1 0 0 1 0 0 1 1 1 0 0 1 1 1 1 0 1 1 1 1 1 1 1 0 1 1 1 1 1 1 0 0 0 1 1 0\n",
      " 0 1 1 1 1 1 1 0 1 0 0 1 1 1 1 0 1 1 1 1 0 0 0 0 1 1 1 1 1 1 0 1 0 1 1 1 1\n",
      " 1 1 0 1 1 1 1 1 0 1 1 1 1 0 1 1 1 1 0 1 0 0 0 1 0 1 0 1 1 1 0 1 0 1 1 1 1\n",
      " 1 0 0 0 1 0 1 0 1 1 1 1 0 1 1 0 1 1 1 1 1 0 1 1 0 0 1 1 1 1 1 0 1 0 0 1 0\n",
      " 1 1 0 1 0 0 1 0 1 1 0 0 1 1 0 0 1 0 0 0 0 1 1 1 1 0 1 1 1 1 1 0 1 0 1 1 1\n",
      " 0 1 1 0 1 1 0 0 1 0 1 0 1 1 1 1 1 0 1 0 1 1 1 1 1 1 0 0 1 1 0 1 1 1 1 0 1\n",
      " 1 1 1 1 0 1 1 1 1 0 0 1 0 1 1 1 1 0 1 1 1 1 0 0 0 1 0 1 1 1 1 1 1 1 1 0 0\n",
      " 1 1 1 0 1 1 1 1 1 1 1 1 1 0 1 1 0 1 0 1 0 1 0 1 0 1 1 1 1 1 0 1 1 1 1 1 0\n",
      " 1 0 0 1 1 0 0 1 1 0 1 1 1 1 1 0 1 1 0 1 0 0 1 1 1 0 1 1 1 1 0 1 1 0 0 1 1\n",
      " 1 1 1]\n",
      "The Confusion Matrix Is\n",
      "[[ 81  27]\n",
      " [ 27 201]]\n",
      "The Accuracy Score Is\n",
      "0.8392857142857143\n"
     ]
    }
   ],
   "source": [
    "#KNN for neighbors = 1\n",
    "neighbors = KNeighborsClassifier(n_neighbors=1)\n",
    "neighbors.fit(X_train, X_label_train)\n",
    "predictedValues = neighbors.predict(X_test)\n",
    "print(\"The Predicted Values Are\")\n",
    "print(predictedValues)\n",
    "print(\"The Confusion Matrix Is\")\n",
    "print(confusion_matrix(X_label_test, predictedValues))\n",
    "print(\"The Accuracy Score Is\")\n",
    "print(accuracy_score(X_label_test, predictedValues))"
   ]
  },
  {
   "cell_type": "code",
   "execution_count": 11,
   "metadata": {
    "pycharm": {
     "name": "#%%\n"
    }
   },
   "outputs": [
    {
     "name": "stdout",
     "output_type": "stream",
     "text": [
      "The Predicted Values Are\n",
      "[1 1 0 0 1 0 0 1 1 1 0 1 1 0 0 1 1 1 1 1 1 1 1 1 0 1 1 1 1 1 1 1 0 1 1 1 0\n",
      " 0 1 1 1 1 0 1 0 1 0 0 1 1 1 1 0 1 1 1 1 1 0 0 1 1 1 1 1 1 1 0 1 0 1 1 1 1\n",
      " 1 1 0 1 1 1 1 1 0 1 1 1 1 1 1 1 1 1 0 1 1 0 0 1 0 1 0 1 1 1 0 1 1 1 1 1 1\n",
      " 1 0 0 0 1 0 1 1 1 1 1 1 0 1 1 0 1 1 1 1 1 1 1 1 0 0 1 1 1 1 1 1 1 0 1 1 0\n",
      " 1 1 0 1 0 0 1 0 1 1 0 0 1 1 0 0 1 0 0 0 0 1 1 1 1 0 1 1 1 1 1 0 1 0 1 1 1\n",
      " 0 1 1 0 1 1 0 0 1 0 1 1 1 1 1 1 1 0 1 0 1 1 1 1 1 1 1 0 1 1 0 1 1 1 1 0 1\n",
      " 1 1 1 1 0 1 1 1 1 0 0 1 0 1 1 1 1 0 1 1 1 1 0 1 1 1 0 1 1 1 1 1 1 1 1 0 0\n",
      " 1 1 0 1 1 1 1 1 1 1 1 1 1 0 1 1 0 1 0 0 1 1 0 1 0 0 1 1 1 1 0 1 1 1 0 1 0\n",
      " 1 0 0 1 1 0 1 1 1 0 1 1 1 1 1 0 1 1 0 1 0 1 1 1 0 0 1 1 1 1 0 1 1 0 0 1 1\n",
      " 1 1 1]\n",
      "The Confusion Matrix Is\n",
      "[[ 83  25]\n",
      " [ 12 216]]\n",
      "The Accuracy Score Is\n",
      "0.8898809523809523\n"
     ]
    }
   ],
   "source": [
    "#KNN for neighbors = 3\n",
    "neighbors = KNeighborsClassifier(n_neighbors=3)\n",
    "neighbors.fit(X_train, X_label_train)\n",
    "predictedValues = neighbors.predict(X_test)\n",
    "print(\"The Predicted Values Are\")\n",
    "print(predictedValues)\n",
    "print(\"The Confusion Matrix Is\")\n",
    "print(confusion_matrix(X_label_test, predictedValues))\n",
    "print(\"The Accuracy Score Is\")\n",
    "print(accuracy_score(X_label_test, predictedValues))"
   ]
  },
  {
   "cell_type": "code",
   "execution_count": 12,
   "metadata": {
    "pycharm": {
     "name": "#%%\n"
    }
   },
   "outputs": [
    {
     "name": "stdout",
     "output_type": "stream",
     "text": [
      "The Predicted Values Are\n",
      "[1 1 0 0 1 0 0 1 1 1 0 1 1 0 0 1 1 1 1 1 1 1 1 1 0 1 1 1 1 1 1 1 0 1 1 1 0\n",
      " 0 1 1 1 1 0 1 0 1 0 0 1 1 1 1 0 1 1 1 1 1 0 0 1 1 1 1 1 1 1 0 1 0 1 1 1 1\n",
      " 1 1 0 1 1 1 1 1 0 1 1 1 1 1 1 1 1 1 1 1 1 0 0 1 0 1 0 1 1 1 0 1 1 1 1 1 1\n",
      " 1 0 0 0 1 0 1 1 1 1 1 1 1 1 1 0 1 1 1 1 1 1 1 1 0 0 1 1 1 1 1 1 1 0 1 1 0\n",
      " 1 1 0 1 0 0 1 0 1 1 0 0 1 1 0 0 1 1 0 0 0 1 1 1 1 0 1 1 1 1 1 0 1 0 1 1 1\n",
      " 0 1 1 0 1 1 0 0 1 0 1 1 1 1 1 1 1 0 1 0 1 1 1 1 1 1 1 0 1 1 0 1 1 1 1 0 1\n",
      " 1 1 1 1 1 1 1 1 1 0 0 1 0 1 1 1 1 0 1 1 1 1 0 1 1 1 0 1 1 1 1 1 1 1 1 0 0\n",
      " 1 1 0 1 1 1 1 1 1 1 1 1 1 0 1 1 0 1 0 1 1 1 0 1 0 0 1 1 1 1 0 1 1 1 0 1 0\n",
      " 1 0 0 1 1 0 1 1 1 0 1 1 1 1 1 0 1 1 0 1 0 1 0 1 0 0 1 1 1 1 0 1 1 0 0 1 1\n",
      " 1 1 1]\n",
      "The Confusion Matrix Is\n",
      "[[ 82  26]\n",
      " [  9 219]]\n",
      "The Accuracy Score Is\n",
      "0.8958333333333334\n"
     ]
    }
   ],
   "source": [
    "#KNN for neighbors = 5\n",
    "neighbors = KNeighborsClassifier(n_neighbors=5)\n",
    "neighbors.fit(X_train, X_label_train)\n",
    "predictedValues = neighbors.predict(X_test)\n",
    "print(\"The Predicted Values Are\")\n",
    "print(predictedValues)\n",
    "print(\"The Confusion Matrix Is\")\n",
    "print(confusion_matrix(X_label_test, predictedValues))\n",
    "print(\"The Accuracy Score Is\")\n",
    "print(accuracy_score(X_label_test, predictedValues))"
   ]
  },
  {
   "cell_type": "markdown",
   "metadata": {
    "pycharm": {
     "name": "#%% md\n"
    }
   },
   "source": [
    "### Inference :- The Accuracy is at maximum when the n value is 5"
   ]
  }
 ],
 "metadata": {
  "kernelspec": {
   "display_name": "Python 3 (ipykernel)",
   "language": "python",
   "name": "python3"
  },
  "language_info": {
   "codemirror_mode": {
    "name": "ipython",
    "version": 3
   },
   "file_extension": ".py",
   "mimetype": "text/x-python",
   "name": "python",
   "nbconvert_exporter": "python",
   "pygments_lexer": "ipython3",
   "version": "3.10.6"
  }
 },
 "nbformat": 4,
 "nbformat_minor": 1
}