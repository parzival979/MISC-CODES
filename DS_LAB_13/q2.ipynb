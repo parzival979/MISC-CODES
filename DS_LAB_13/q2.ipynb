{
 "cells": [
  {
   "cell_type": "markdown",
   "metadata": {
    "pycharm": {
     "name": "#%% md\n"
    }
   },
   "source": [
    "# DS LAB 13 PART 2"
   ]
  },
  {
   "cell_type": "code",
   "execution_count": 1,
   "metadata": {
    "collapsed": true,
    "pycharm": {
     "name": "#%%\n"
    }
   },
   "outputs": [],
   "source": [
    "import pandas as pd\n",
    "from sklearn.model_selection import train_test_split\n",
    "from sklearn.neighbors import KNeighborsClassifier\n",
    "from sklearn.metrics import accuracy_score\n",
    "from sklearn.metrics import confusion_matrix"
   ]
  },
  {
   "cell_type": "code",
   "execution_count": 2,
   "metadata": {
    "pycharm": {
     "name": "#%%\n"
    }
   },
   "outputs": [],
   "source": [
    "req_df = pd.read_csv('SteelPlateFaults-2class.csv')\n",
    "\n",
    "#split the data into train and test\n",
    "X_train_before_normal, X_test_before_normal, X_label_train, X_label_test = train_test_split(req_df,req_df['Class'],test_size=0.3, random_state=42)"
   ]
  },
  {
   "cell_type": "code",
   "execution_count": 3,
   "metadata": {
    "pycharm": {
     "name": "#%%\n"
    }
   },
   "outputs": [],
   "source": [
    "#drop the class column from the train and test data\n",
    "X_train_before_normal = X_train_before_normal.drop(['Class'], axis=1)\n",
    "X_test_before_normal = X_test_before_normal.drop(['Class'], axis=1)"
   ]
  },
  {
   "cell_type": "code",
   "execution_count": 4,
   "metadata": {
    "pycharm": {
     "name": "#%%\n"
    }
   },
   "outputs": [],
   "source": [
    "#normalize the data\n",
    "for col in X_train_before_normal.columns:\n",
    "    X_train_before_normal[col] = (X_train_before_normal[col] - X_train_before_normal[col].min()) / (X_train_before_normal[col].max()-X_train_before_normal[col].min())\n",
    "    X_test_before_normal[col] = (X_test_before_normal[col] - X_test_before_normal[col].min()) / (X_test_before_normal[col].max()-X_test_before_normal[col].min())\n",
    "\n",
    "X_train = X_train_before_normal.copy(deep=True)\n",
    "X_test = X_test_before_normal.copy(deep=True)"
   ]
  },
  {
   "cell_type": "code",
   "execution_count": 5,
   "metadata": {
    "pycharm": {
     "name": "#%%\n"
    }
   },
   "outputs": [
    {
     "name": "stdout",
     "output_type": "stream",
     "text": [
      "The Normalized Data Sets Are\n",
      "The Train Data Set Is\n",
      "      X_Minimum  X_Maximum  Y_Minimum  Y_Maximum  Pixels_Areas  X_Perimeter  \\\n",
      "1114   0.146628   0.215916   0.291950   0.291958      0.163720     0.249804   \n",
      "1009   0.021701   0.124634   0.146524   0.146528      0.176872     0.241948   \n",
      "993    0.024047   0.122294   0.131369   0.131373      0.166185     0.200314   \n",
      "254    0.704985   0.709187   0.022767   0.022767      0.003616     0.010212   \n",
      "820    0.025220   0.123464   0.100413   0.100425      0.374290     0.622938   \n",
      "...         ...        ...        ...        ...           ...          ...   \n",
      "466    0.313783   0.335869   0.011486   0.011486      0.007045     0.056559   \n",
      "121    0.209384   0.215916   0.074337   0.074338      0.005652     0.031422   \n",
      "1044   0.024047   0.122294   0.183984   0.183988      0.154050     0.227023   \n",
      "1095   0.050440   0.123464   0.589751   0.589753      0.116361     0.126473   \n",
      "860    0.024047   0.108836   0.144479   0.144491      0.304993     0.552239   \n",
      "\n",
      "      Y_Perimeter  Sum_of_Luminosity  Minimum_of_Luminosity  \\\n",
      "1114     0.217295           0.161689               0.204082   \n",
      "1009     0.166297           0.174703               0.193878   \n",
      "993      0.140798           0.163670               0.198980   \n",
      "254      0.015521           0.004197               0.556122   \n",
      "820      0.487805           0.416048               0.147959   \n",
      "...           ...                ...                    ...   \n",
      "466      0.049889           0.008143               0.581633   \n",
      "121      0.042129           0.005172               0.408163   \n",
      "1044     0.176275           0.153621               0.204082   \n",
      "1095     0.097561           0.120674               0.331633   \n",
      "860      0.464523           0.334649               0.183673   \n",
      "\n",
      "      Maximum_of_Luminosity  ...  Outside_X_Index  Edges_X_Index  \\\n",
      "1114               0.449074  ...         0.082685       0.332176   \n",
      "1009               0.412037  ...         0.150046       0.545021   \n",
      "993                0.416667  ...         0.143298       0.641245   \n",
      "254                0.449074  ...         0.007777       0.927642   \n",
      "820                0.476852  ...         0.138838       0.149924   \n",
      "...                     ...  ...              ...            ...   \n",
      "466                0.449074  ...         0.027333       0.545563   \n",
      "121                0.375000  ...         0.011551       0.328488   \n",
      "1044               0.407407  ...         0.143184       0.556411   \n",
      "1095               0.416667  ...         0.106816       0.773704   \n",
      "860                0.476852  ...         0.119854       0.144391   \n",
      "\n",
      "      Edges_Y_Index  Outside_Global_Index  LogOfAreas  Log_X_Index  \\\n",
      "1114       0.519658                   0.0    0.816019     0.645090   \n",
      "1009       0.380759                   0.0    0.823886     0.704735   \n",
      "993        0.436747                   0.0    0.817541     0.697595   \n",
      "254        0.924862                   0.5    0.429796     0.304749   \n",
      "820        0.310353                   0.0    0.900073     0.697595   \n",
      "...             ...                   ...         ...          ...   \n",
      "466        0.216289                   0.0    0.496874     0.480509   \n",
      "121        0.768953                   1.0    0.474679     0.325664   \n",
      "1044       0.338177                   0.0    0.809838     0.697595   \n",
      "1095       0.518982                   0.0    0.781321     0.652555   \n",
      "860        0.307987                   1.0    0.879258     0.675129   \n",
      "\n",
      "      Log_Y_Index  Orientation_Index  Luminosity_Index  SigmoidOfAreas  \n",
      "1114     0.785154           0.464751          0.461501        1.000000  \n",
      "1009     0.700792           0.183120          0.461570        1.000000  \n",
      "993      0.690734           0.180152          0.459986        1.000000  \n",
      "254      0.438296           0.507081          0.559366        0.239501  \n",
      "820      0.853952           0.504061          0.531474        1.000000  \n",
      "...           ...                ...               ...             ...  \n",
      "466      0.438296           0.155941          0.556612        0.864472  \n",
      "121      0.570347           0.759034          0.421970        0.755278  \n",
      "1044     0.695820           0.186192          0.466942        1.000000  \n",
      "1095     0.653027           0.192232          0.489463        1.000000  \n",
      "860      0.844965           0.548891          0.523416        1.000000  \n",
      "\n",
      "[783 rows x 27 columns]\n",
      "The Test Data Set Is\n",
      "      X_Minimum  X_Maximum  Y_Minimum  Y_Maximum  Pixels_Areas  X_Perimeter  \\\n",
      "243    0.686345   0.688281   0.077722   0.077722      0.000393     0.000670   \n",
      "101    0.719141   0.719215   0.027326   0.027327      0.000714     0.000479   \n",
      "961    0.025641   0.114813   0.061442   0.061447      0.040634     0.018962   \n",
      "1060   0.024448   0.125521   0.244325   0.244330      0.041099     0.025666   \n",
      "522    0.005963   0.010113   0.114172   0.114173      0.000760     0.000479   \n",
      "...         ...        ...        ...        ...           ...          ...   \n",
      "467    0.036374   0.055919   0.429557   0.429569      0.012743     0.019441   \n",
      "424    0.012522   0.041047   0.484698   0.484701      0.004973     0.005650   \n",
      "689    0.612403   0.620464   0.070554   0.070553      0.000334     0.001437   \n",
      "595    0.014311   0.023200   0.176059   0.176060      0.001409     0.001724   \n",
      "65     0.960644   0.960143   0.150568   0.150568      0.000288     0.000287   \n",
      "\n",
      "      Y_Perimeter  Sum_of_Luminosity  Minimum_of_Luminosity  \\\n",
      "243      0.000386           0.000815               0.546798   \n",
      "101      0.001157           0.001214               0.492611   \n",
      "961      0.006227           0.055562               0.187192   \n",
      "1060     0.007163           0.056414               0.206897   \n",
      "522      0.000827           0.001284               0.517241   \n",
      "...           ...                ...                    ...   \n",
      "467      0.009753           0.002436               0.000000   \n",
      "424      0.002755           0.007057               0.330049   \n",
      "689      0.000331           0.000791               0.536946   \n",
      "595      0.000992           0.002496               0.527094   \n",
      "65       0.000551           0.000397               0.310345   \n",
      "\n",
      "      Maximum_of_Luminosity  ...  Outside_X_Index  Edges_X_Index  \\\n",
      "243                0.456731  ...         0.009213       0.782569   \n",
      "101                0.384615  ...         0.005980       0.661830   \n",
      "961                0.408654  ...         0.180863       0.752537   \n",
      "1060               0.418269  ...         0.204784       0.631088   \n",
      "522                0.408654  ...         0.010506       1.000000   \n",
      "...                     ...  ...              ...            ...   \n",
      "467                0.000000  ...         0.042024       0.169034   \n",
      "424                0.451923  ...         0.048489       0.800122   \n",
      "689                0.524038  ...         0.016486       0.953937   \n",
      "595                0.485577  ...         0.020365       0.797078   \n",
      "65                 0.259615  ...         0.004202       0.797078   \n",
      "\n",
      "      Edges_Y_Index  Outside_Global_Index  LogOfAreas  Log_X_Index  \\\n",
      "243        1.000000                   0.5    0.140393     0.229260   \n",
      "101        1.000000                   1.0    0.192615     0.173072   \n",
      "961        0.479088                   0.0    0.632997     0.696027   \n",
      "1060       0.427491                   0.0    0.634291     0.717437   \n",
      "522        0.944725                   1.0    0.198452     0.244617   \n",
      "...             ...                   ...         ...          ...   \n",
      "467        0.814208                   1.0    0.500977     0.447997   \n",
      "424        0.980559                   0.5    0.395267     0.506704   \n",
      "689        0.684741                   0.0    0.127556     0.343341   \n",
      "595        1.000000                   1.0    0.259470     0.334728   \n",
      "65         0.924968                   1.0    0.116488     0.173072   \n",
      "\n",
      "      Log_Y_Index  Orientation_Index  Luminosity_Index  SigmoidOfAreas  \n",
      "243      0.149223           0.499823          0.571237        0.100362  \n",
      "101      0.243495           0.842790          0.526508        0.224092  \n",
      "961      0.342104           0.187421          0.492261        1.000000  \n",
      "1060     0.345938           0.171282          0.494211        1.000000  \n",
      "522      0.205786           0.667928          0.527605        0.252366  \n",
      "...           ...                ...               ...             ...  \n",
      "467      0.448514           0.875574          0.069409        1.000000  \n",
      "424      0.329807           0.499823          0.500731        1.000000  \n",
      "689      0.097313           0.163565          0.621633        0.137867  \n",
      "595      0.228818           0.545670          0.588483        0.666667  \n",
      "65       0.168394           0.693801          0.369226        0.077579  \n",
      "\n",
      "[336 rows x 27 columns]\n"
     ]
    }
   ],
   "source": [
    "print(\"The Normalized Data Sets Are\")\n",
    "print(\"The Train Data Set Is\")\n",
    "print(X_train)\n",
    "print(\"The Test Data Set Is\")\n",
    "print(X_test)"
   ]
  },
  {
   "cell_type": "code",
   "execution_count": 6,
   "metadata": {
    "pycharm": {
     "name": "#%%\n"
    }
   },
   "outputs": [
    {
     "name": "stdout",
     "output_type": "stream",
     "text": [
      "The Predicted Values Are\n",
      "[1 1 0 0 1 0 0 1 1 1 0 1 1 1 0 0 1 1 0 0 1 1 1 1 0 1 1 1 1 1 1 1 0 1 1 1 0\n",
      " 0 0 1 1 1 1 1 0 0 0 0 1 1 1 1 0 1 1 1 1 1 0 0 1 1 1 1 1 1 1 0 1 0 1 1 1 1\n",
      " 1 1 0 0 1 1 1 1 0 1 1 0 1 1 1 1 0 1 0 1 1 1 0 1 0 1 0 1 0 1 0 0 1 1 1 1 1\n",
      " 1 1 0 0 1 0 1 1 1 1 1 1 1 1 1 0 0 1 1 1 1 1 1 1 0 1 0 1 1 1 1 1 0 0 1 1 1\n",
      " 1 1 0 1 0 0 1 0 1 1 0 0 1 1 0 0 1 0 0 0 0 1 1 1 1 0 1 1 1 1 1 0 1 0 1 1 1\n",
      " 0 1 0 0 1 1 1 0 1 0 1 1 1 1 1 1 1 0 0 0 0 1 1 1 1 1 1 0 1 1 0 1 0 1 1 0 1\n",
      " 1 1 1 0 1 1 1 1 1 0 0 1 0 1 1 1 1 0 1 1 1 0 0 0 1 1 0 1 0 1 1 1 1 1 1 0 0\n",
      " 1 1 0 1 1 1 1 1 1 0 1 1 1 0 1 1 0 0 1 1 1 1 0 1 0 1 1 1 1 1 0 1 1 1 0 0 0\n",
      " 1 0 0 1 0 0 1 1 1 0 1 1 1 1 1 0 1 1 0 1 0 0 1 1 0 0 1 1 1 1 0 1 1 0 1 1 1\n",
      " 1 1 1]\n",
      "The Confusion Matrix Is\n",
      "[[100   8]\n",
      " [  8 220]]\n",
      "The Accuracy Score Is\n",
      "0.9523809523809523\n"
     ]
    }
   ],
   "source": [
    "#KNN for neighbors = 1\n",
    "neighbors = KNeighborsClassifier(n_neighbors=1)\n",
    "neighbors.fit(X_train, X_label_train)\n",
    "predictedValues = neighbors.predict(X_test)\n",
    "print(\"The Predicted Values Are\")\n",
    "print(predictedValues)\n",
    "print(\"The Confusion Matrix Is\")\n",
    "print(confusion_matrix(X_label_test, predictedValues))\n",
    "print(\"The Accuracy Score Is\")\n",
    "print(accuracy_score(X_label_test, predictedValues))"
   ]
  },
  {
   "cell_type": "code",
   "execution_count": 7,
   "metadata": {
    "pycharm": {
     "name": "#%%\n"
    }
   },
   "outputs": [
    {
     "name": "stdout",
     "output_type": "stream",
     "text": [
      "The Predicted Values Are\n",
      "[1 1 0 0 1 0 0 1 1 1 0 1 1 1 0 0 1 1 0 0 1 1 1 1 0 1 1 1 1 1 1 1 0 1 1 1 0\n",
      " 0 1 1 1 1 1 1 0 0 0 0 1 1 1 1 0 1 1 1 1 1 0 0 1 1 1 1 1 1 1 0 1 0 1 1 1 1\n",
      " 1 1 0 0 1 1 1 1 0 1 1 0 1 1 1 1 0 1 0 1 1 1 0 1 0 1 0 1 0 1 0 0 1 1 1 1 1\n",
      " 1 1 0 0 1 0 1 1 1 1 1 1 1 1 1 0 0 1 1 1 1 1 1 1 0 1 1 1 1 1 1 1 0 0 1 1 1\n",
      " 1 1 0 1 0 0 1 0 1 1 0 0 1 1 0 0 1 1 0 0 0 1 1 1 1 0 1 1 1 1 1 0 1 0 1 1 1\n",
      " 0 1 0 0 1 1 1 0 1 0 1 1 1 1 1 1 1 0 1 0 0 1 1 1 1 1 1 0 1 1 0 1 0 1 1 0 1\n",
      " 1 0 1 0 1 1 1 1 1 0 0 1 0 1 1 1 1 0 1 1 1 1 0 0 1 0 0 1 0 1 1 1 1 1 0 0 0\n",
      " 1 1 0 1 1 1 1 1 1 0 1 1 1 0 1 1 0 0 1 1 1 1 0 1 0 1 1 1 1 1 0 1 1 1 0 0 0\n",
      " 1 0 0 1 0 0 1 1 1 0 1 1 1 1 1 0 1 1 0 1 0 0 1 1 0 0 1 1 1 1 0 1 1 0 0 1 1\n",
      " 1 1 1]\n",
      "The Confusion Matrix Is\n",
      "[[100   8]\n",
      " [  7 221]]\n",
      "The Accuracy Score Is\n",
      "0.9553571428571429\n"
     ]
    }
   ],
   "source": [
    "#KNN for neighbors = 3\n",
    "neighbors = KNeighborsClassifier(n_neighbors=3)\n",
    "neighbors.fit(X_train, X_label_train)\n",
    "predictedValues = neighbors.predict(X_test)\n",
    "print(\"The Predicted Values Are\")\n",
    "print(predictedValues)\n",
    "print(\"The Confusion Matrix Is\")\n",
    "print(confusion_matrix(X_label_test, predictedValues))\n",
    "print(\"The Accuracy Score Is\")\n",
    "print(accuracy_score(X_label_test, predictedValues))"
   ]
  },
  {
   "cell_type": "code",
   "execution_count": 8,
   "metadata": {
    "pycharm": {
     "name": "#%%\n"
    }
   },
   "outputs": [
    {
     "name": "stdout",
     "output_type": "stream",
     "text": [
      "The Predicted Values Are\n",
      "[1 1 0 0 1 0 0 1 1 1 0 1 1 1 0 0 1 1 0 0 1 1 1 1 0 1 1 1 1 1 1 1 0 1 1 1 0\n",
      " 0 1 1 1 1 0 1 0 0 0 0 1 1 1 1 0 1 1 1 1 1 0 0 1 1 1 1 1 1 1 0 1 0 1 1 1 1\n",
      " 1 1 0 0 1 1 1 1 0 1 1 0 1 1 1 1 0 1 1 1 1 1 0 1 0 1 0 1 0 1 0 0 1 1 1 1 1\n",
      " 1 1 0 0 1 0 1 1 1 1 1 1 1 1 1 0 0 1 1 1 1 1 1 1 0 1 1 1 1 1 1 1 0 0 1 1 1\n",
      " 1 1 0 1 0 0 1 0 1 1 0 0 1 1 0 0 1 0 0 0 0 1 1 1 1 0 1 1 1 1 1 0 1 0 1 1 1\n",
      " 0 1 0 0 1 1 1 0 1 0 1 1 1 1 1 1 1 0 1 0 0 1 1 1 1 1 1 0 1 1 0 1 0 1 1 0 1\n",
      " 1 0 1 1 1 1 1 1 1 0 0 1 0 0 1 1 1 0 1 1 1 1 0 0 1 1 0 1 0 1 1 1 1 1 0 0 0\n",
      " 1 1 0 1 1 1 1 1 1 1 1 1 1 0 1 1 0 1 1 1 1 1 0 1 0 1 1 1 1 1 0 1 1 1 0 0 0\n",
      " 1 0 0 1 0 0 1 1 1 0 1 1 1 1 1 0 1 1 0 1 0 0 1 1 0 0 1 1 1 1 0 1 1 0 0 1 1\n",
      " 1 1 1]\n",
      "The Confusion Matrix Is\n",
      "[[101   7]\n",
      " [  4 224]]\n",
      "The Accuracy Score Is\n",
      "0.9672619047619048\n"
     ]
    }
   ],
   "source": [
    "#KNN for neighbors = 5\n",
    "neighbors = KNeighborsClassifier(n_neighbors=5)\n",
    "neighbors.fit(X_train, X_label_train)\n",
    "predictedValues = neighbors.predict(X_test)\n",
    "print(\"The Predicted Values Are\")\n",
    "print(predictedValues)\n",
    "print(\"The Confusion Matrix Is\")\n",
    "print(confusion_matrix(X_label_test, predictedValues))\n",
    "print(\"The Accuracy Score Is\")\n",
    "print(accuracy_score(X_label_test, predictedValues))"
   ]
  },
  {
   "cell_type": "markdown",
   "metadata": {
    "pycharm": {
     "name": "#%% md\n"
    }
   },
   "source": [
    "### It can be observed that the accuracy has been significantly increased after the data has been normalized"
   ]
  }
 ],
 "metadata": {
  "kernelspec": {
   "display_name": "Python 3 (ipykernel)",
   "language": "python",
   "name": "python3"
  },
  "language_info": {
   "codemirror_mode": {
    "name": "ipython",
    "version": 3
   },
   "file_extension": ".py",
   "mimetype": "text/x-python",
   "name": "python",
   "nbconvert_exporter": "python",
   "pygments_lexer": "ipython3",
   "version": "3.10.6"
  }
 },
 "nbformat": 4,
 "nbformat_minor": 1
}