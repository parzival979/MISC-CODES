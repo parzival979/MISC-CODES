{
 "cells": [
  {
   "cell_type": "code",
   "execution_count": 1,
   "metadata": {
    "collapsed": true,
    "pycharm": {
     "name": "#%%\n"
    }
   },
   "outputs": [],
   "source": [
    "# importing the required libraries\n",
    "import pandas as pd\n",
    "import numpy as np\n",
    "import matplotlib.pyplot\n",
    "import cv2\n"
   ]
  },
  {
   "cell_type": "code",
   "execution_count": 2,
   "metadata": {
    "pycharm": {
     "name": "#%%\n"
    }
   },
   "outputs": [],
   "source": [
    "# reading the image using imread() function\n",
    "img = cv2.imread('lena.png')"
   ]
  },
  {
   "cell_type": "code",
   "execution_count": null,
   "metadata": {
    "pycharm": {
     "is_executing": true,
     "name": "#%%# displaying the image using imshow() function\n"
    }
   },
   "outputs": [
    {
     "data": {
      "text/plain": [
       "<matplotlib.image.AxesImage at 0x150c77fd0>"
      ]
     },
     "execution_count": 3,
     "metadata": {},
     "output_type": "execute_result"
    }
   ],
   "source": [
    "# displaying the image in matplotlib\n",
    "matplotlib.pyplot.imshow(img)"
   ]
  },
  {
   "cell_type": "code",
   "execution_count": null,
   "metadata": {
    "pycharm": {
     "is_executing": true,
     "name": "#%%# converting image from bgr to rgb\n"
    }
   },
   "outputs": [],
   "source": [
    "# converting image from bgr to rgb\n",
    "img = cv2.cvtColor(img, cv2.COLOR_BGR2RGB)\n",
    "# displaying the image in matplotlib\n",
    "matplotlib.pyplot.imshow(img)"
   ]
  },
  {
   "cell_type": "code",
   "execution_count": null,
   "metadata": {
    "pycharm": {
     "is_executing": true,
     "name": "#%%\n"
    }
   },
   "outputs": [],
   "source": [
    "# writing a function to return the image added with gaussian noise\n",
    "def add_gaussian_noise(img):\n",
    "    # creating a gaussian noise with the same size as the image\n",
    "    gaussian_noise = np.random.normal(0, 1, img.shape)\n",
    "    # adding the gaussian noise to the image\n",
    "    img = img + gaussian_noise\n",
    "    # converting the image to unsigned int\n",
    "    img = np.array(img, dtype = np.uint8)\n",
    "    # returning the image with gaussian noise\n",
    "    return img\n",
    "\n",
    "# adding gaussian noise to the image\n",
    "img_noise = add_gaussian_noise(img)\n",
    "# displaying the image with gaussian noise\n",
    "matplotlib.pyplot.imshow(img_noise)"
   ]
  },
  {
   "cell_type": "code",
   "execution_count": null,
   "metadata": {
    "pycharm": {
     "is_executing": true,
     "name": "#%%\n"
    }
   },
   "outputs": [],
   "source": [
    "# displaying the difference between the original image and the image with gaussian noise\n",
    "matplotlib.pyplot.imshow(img - img_noise)"
   ]
  },
  {
   "cell_type": "code",
   "execution_count": null,
   "metadata": {
    "pycharm": {
     "is_executing": true,
     "name": "#%%\n"
    }
   },
   "outputs": [],
   "source": [
    "# writing a function to return a list of images added with gaussian noise depending on n\n",
    "def add_gaussian_noise_n(img, n):\n",
    "    # creating an empty list\n",
    "    img_noise_list = []\n",
    "    # looping through the range of n\n",
    "    for i in range(n):\n",
    "        # adding gaussian noise to the image\n",
    "        img_noise = add_gaussian_noise(img)\n",
    "        # appending the image with gaussian noise to the list\n",
    "        img_noise_list.append(img_noise)\n",
    "    # returning the list of images with gaussian noise\n",
    "    return img_noise_list"
   ]
  },
  {
   "cell_type": "code",
   "execution_count": null,
   "metadata": {
    "pycharm": {
     "is_executing": true,
     "name": "#%%\n"
    }
   },
   "outputs": [],
   "source": [
    "# writing a function to take mean of the list of all the images and return the image\n",
    "def mean_image(img_noise_list):\n",
    "    # taking the mean of the list of images\n",
    "    img_mean = np.mean(img_noise_list, axis = 0)\n",
    "    # converting the image to unsigned int\n",
    "    img_mean = np.array(img_mean, dtype = np.uint8)\n",
    "    # returning the image\n",
    "    return img_mean"
   ]
  },
  {
   "cell_type": "code",
   "execution_count": null,
   "metadata": {
    "pycharm": {
     "is_executing": true,
     "name": "#%%\n"
    }
   },
   "outputs": [],
   "source": [
    "# generating different image lists of size 5,10,20 and 30\n",
    "img_noise_list_5 = add_gaussian_noise_n(img, 5)\n",
    "img_noise_list_10 = add_gaussian_noise_n(img, 10)\n",
    "img_noise_list_20 = add_gaussian_noise_n(img, 20)\n",
    "img_noise_list_30 = add_gaussian_noise_n(img, 30)"
   ]
  },
  {
   "cell_type": "code",
   "execution_count": null,
   "metadata": {
    "pycharm": {
     "is_executing": true,
     "name": "#%%# taking the mean of the image lists\n"
    }
   },
   "outputs": [],
   "source": [
    "# taking the mean of the image lists\n",
    "img_mean_5 = mean_image(img_noise_list_5)\n",
    "img_mean_10 = mean_image(img_noise_list_10)\n",
    "img_mean_20 = mean_image(img_noise_list_20)\n",
    "img_mean_30 = mean_image(img_noise_list_30)"
   ]
  },
  {
   "cell_type": "code",
   "execution_count": null,
   "metadata": {
    "pycharm": {
     "is_executing": true,
     "name": "#%%# displaying the mean images# displaying the mean images\n"
    }
   },
   "outputs": [],
   "source": [
    "# displaying the mean images\n",
    "matplotlib.pyplot.imshow(img_mean_5)\n",
    "matplotlib.pyplot.imshow(img_mean_10)\n",
    "matplotlib.pyplot.imshow(img_mean_20)\n",
    "matplotlib.pyplot.imshow(img_mean_30)"
   ]
  },
  {
   "cell_type": "code",
   "execution_count": null,
   "metadata": {
    "pycharm": {
     "name": "#%%# displaying the difference between the original image and the mean images\n"
    }
   },
   "outputs": [],
   "source": [
    "# displaying the difference between the original image and the mean images\n",
    "matplotlib.pyplot.imshow(img - img_mean_5)\n",
    "matplotlib.pyplot.imshow(img - img_mean_10)\n",
    "matplotlib.pyplot.imshow(img - img_mean_20)\n",
    "matplotlib.pyplot.imshow(img - img_mean_30)"
   ]
  },
  {
   "cell_type": "code",
   "execution_count": null,
   "metadata": {
    "pycharm": {
     "name": "#%%\n"
    }
   },
   "outputs": [],
   "source": []
  }
 ],
 "metadata": {
  "kernelspec": {
   "display_name": "Python 3 (ipykernel)",
   "language": "python",
   "name": "python3"
  },
  "language_info": {
   "codemirror_mode": {
    "name": "ipython",
    "version": 3
   },
   "file_extension": ".py",
   "mimetype": "text/x-python",
   "name": "python",
   "nbconvert_exporter": "python",
   "pygments_lexer": "ipython3",
   "version": "3.10.9"
  }
 },
 "nbformat": 4,
 "nbformat_minor": 1
}
