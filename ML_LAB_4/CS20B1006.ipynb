{
 "cells": [
  {
   "cell_type": "markdown",
   "source": [
    "# ML LAB DAY 4\n",
    "\n",
    "#### Programmed By Sravanth Chowdary Potluri\n",
    "\n",
    "Perform LED digit classification using Naive bayes classifier  in python.\n",
    "\n",
    "For Reference: [Click Here](https://iksinc.online/2017/07/17/faulty-led-display-digit-recognition-illustration-of-naive-bayes-classifier-using-excel/)"
   ],
   "metadata": {
    "collapsed": false,
    "pycharm": {
     "name": "#%% md\n"
    }
   }
  },
  {
   "cell_type": "code",
   "execution_count": 48,
   "metadata": {
    "collapsed": true,
    "pycharm": {
     "name": "#%%\n"
    }
   },
   "outputs": [],
   "source": [
    "import numpy as np\n",
    "import pandas as pd\n",
    "import matplotlib.pyplot as plt\n",
    "import seaborn as sns"
   ]
  },
  {
   "cell_type": "code",
   "execution_count": 49,
   "outputs": [
    {
     "name": "stdout",
     "output_type": "stream",
     "text": [
      "      s1   s2   s3   s4   s5   s6   s7  Digit-ID\n",
      "0    0.0  1.0  1.0  0.0  0.0  0.0  0.0       1.0\n",
      "1    0.0  1.0  1.0  1.0  0.0  1.0  1.0       1.0\n",
      "2    0.0  1.0  1.0  0.0  0.0  1.0  0.0       1.0\n",
      "3    0.0  1.0  0.0  0.0  1.0  0.0  1.0       1.0\n",
      "4    0.0  1.0  0.0  0.0  0.0  0.0  0.0       1.0\n",
      "..   ...  ...  ...  ...  ...  ...  ...       ...\n",
      "238  1.0  1.0  1.0  1.0  1.0  1.0  0.0       0.0\n",
      "239  1.0  1.0  1.0  0.0  1.0  1.0  0.0       0.0\n",
      "240  1.0  1.0  1.0  1.0  1.0  1.0  0.0       0.0\n",
      "241  1.0  1.0  1.0  1.0  0.0  1.0  0.0       0.0\n",
      "242  0.0  1.0  1.0  1.0  1.0  1.0  0.0       0.0\n",
      "\n",
      "[243 rows x 8 columns]\n"
     ]
    }
   ],
   "source": [
    "# Importing the dataset\n",
    "dataset = pd.read_csv('digitrecognition.csv')\n",
    "print(dataset)"
   ],
   "metadata": {
    "collapsed": false,
    "pycharm": {
     "name": "#%%\n"
    }
   }
  },
  {
   "cell_type": "code",
   "execution_count": 50,
   "outputs": [
    {
     "name": "stdout",
     "output_type": "stream",
     "text": [
      "      s1   s2   s3   s4   s5   s6   s7  Digit-ID\n",
      "0    0.0  1.0  1.0  0.0  0.0  0.0  0.0       1.0\n",
      "1    0.0  1.0  1.0  1.0  0.0  1.0  1.0       1.0\n",
      "2    0.0  1.0  1.0  0.0  0.0  1.0  0.0       1.0\n",
      "3    0.0  1.0  0.0  0.0  1.0  0.0  1.0       1.0\n",
      "4    0.0  1.0  0.0  0.0  0.0  0.0  0.0       1.0\n",
      "..   ...  ...  ...  ...  ...  ...  ...       ...\n",
      "238  1.0  1.0  1.0  1.0  1.0  1.0  0.0       0.0\n",
      "239  1.0  1.0  1.0  0.0  1.0  1.0  0.0       0.0\n",
      "240  1.0  1.0  1.0  1.0  1.0  1.0  0.0       0.0\n",
      "241  1.0  1.0  1.0  1.0  0.0  1.0  0.0       0.0\n",
      "242  0.0  1.0  1.0  1.0  1.0  1.0  0.0       0.0\n",
      "\n",
      "[209 rows x 8 columns]\n"
     ]
    }
   ],
   "source": [
    "# dropping the null value columns to avoid errors\n",
    "dataset.dropna(inplace = True)\n",
    "print(dataset)"
   ],
   "metadata": {
    "collapsed": false,
    "pycharm": {
     "name": "#%%\n"
    }
   }
  },
  {
   "cell_type": "code",
   "execution_count": 51,
   "outputs": [
    {
     "name": "stdout",
     "output_type": "stream",
     "text": [
      "     index   s1   s2   s3   s4   s5   s6   s7  Digit-ID\n",
      "0        0  0.0  1.0  1.0  0.0  0.0  0.0  0.0       1.0\n",
      "1        1  0.0  1.0  1.0  1.0  0.0  1.0  1.0       1.0\n",
      "2        2  0.0  1.0  1.0  0.0  0.0  1.0  0.0       1.0\n",
      "3        3  0.0  1.0  0.0  0.0  1.0  0.0  1.0       1.0\n",
      "4        4  0.0  1.0  0.0  0.0  0.0  0.0  0.0       1.0\n",
      "..     ...  ...  ...  ...  ...  ...  ...  ...       ...\n",
      "204    238  1.0  1.0  1.0  1.0  1.0  1.0  0.0       0.0\n",
      "205    239  1.0  1.0  1.0  0.0  1.0  1.0  0.0       0.0\n",
      "206    240  1.0  1.0  1.0  1.0  1.0  1.0  0.0       0.0\n",
      "207    241  1.0  1.0  1.0  1.0  0.0  1.0  0.0       0.0\n",
      "208    242  0.0  1.0  1.0  1.0  1.0  1.0  0.0       0.0\n",
      "\n",
      "[209 rows x 9 columns]\n"
     ]
    }
   ],
   "source": [
    "# resetting the index, because we droped rows\n",
    "dataset=dataset.reset_index(inplace = False)\n",
    "print(dataset)"
   ],
   "metadata": {
    "collapsed": false,
    "pycharm": {
     "name": "#%%\n"
    }
   }
  },
  {
   "cell_type": "code",
   "execution_count": 52,
   "outputs": [
    {
     "name": "stdout",
     "output_type": "stream",
     "text": [
      "      s1   s2   s3   s4   s5   s6   s7  Digit-ID\n",
      "0    0.0  1.0  1.0  0.0  0.0  0.0  0.0       1.0\n",
      "1    0.0  1.0  1.0  1.0  0.0  1.0  1.0       1.0\n",
      "2    0.0  1.0  1.0  0.0  0.0  1.0  0.0       1.0\n",
      "3    0.0  1.0  0.0  0.0  1.0  0.0  1.0       1.0\n",
      "4    0.0  1.0  0.0  0.0  0.0  0.0  0.0       1.0\n",
      "..   ...  ...  ...  ...  ...  ...  ...       ...\n",
      "204  1.0  1.0  1.0  1.0  1.0  1.0  0.0       0.0\n",
      "205  1.0  1.0  1.0  0.0  1.0  1.0  0.0       0.0\n",
      "206  1.0  1.0  1.0  1.0  1.0  1.0  0.0       0.0\n",
      "207  1.0  1.0  1.0  1.0  0.0  1.0  0.0       0.0\n",
      "208  0.0  1.0  1.0  1.0  1.0  1.0  0.0       0.0\n",
      "\n",
      "[209 rows x 8 columns]\n"
     ]
    }
   ],
   "source": [
    "# dropping the index column\n",
    "dataset=dataset.drop(['index'],axis=1)\n",
    "print(dataset)"
   ],
   "metadata": {
    "collapsed": false,
    "pycharm": {
     "name": "#%%\n"
    }
   }
  },
  {
   "cell_type": "code",
   "execution_count": 53,
   "outputs": [
    {
     "name": "stdout",
     "output_type": "stream",
     "text": [
      "      s1   s2   s3   s4   s5   s6   s7\n",
      "0    0.0  1.0  1.0  0.0  0.0  0.0  0.0\n",
      "1    0.0  1.0  1.0  1.0  0.0  1.0  1.0\n",
      "2    0.0  1.0  1.0  0.0  0.0  1.0  0.0\n",
      "3    0.0  1.0  0.0  0.0  1.0  0.0  1.0\n",
      "4    0.0  1.0  0.0  0.0  0.0  0.0  0.0\n",
      "..   ...  ...  ...  ...  ...  ...  ...\n",
      "204  1.0  1.0  1.0  1.0  1.0  1.0  0.0\n",
      "205  1.0  1.0  1.0  0.0  1.0  1.0  0.0\n",
      "206  1.0  1.0  1.0  1.0  1.0  1.0  0.0\n",
      "207  1.0  1.0  1.0  1.0  0.0  1.0  0.0\n",
      "208  0.0  1.0  1.0  1.0  1.0  1.0  0.0\n",
      "\n",
      "[209 rows x 7 columns]\n",
      "0      1.0\n",
      "1      1.0\n",
      "2      1.0\n",
      "3      1.0\n",
      "4      1.0\n",
      "      ... \n",
      "204    0.0\n",
      "205    0.0\n",
      "206    0.0\n",
      "207    0.0\n",
      "208    0.0\n",
      "Name: Digit-ID, Length: 209, dtype: float64\n"
     ]
    }
   ],
   "source": [
    "# seperating the label from the dataset\n",
    "X = dataset.drop('Digit-ID', axis = 1)\n",
    "y = dataset['Digit-ID']\n",
    "print(X)\n",
    "print(y)"
   ],
   "metadata": {
    "collapsed": false,
    "pycharm": {
     "name": "#%%\n"
    }
   }
  },
  {
   "cell_type": "code",
   "execution_count": 54,
   "outputs": [],
   "source": [
    "# splitting the dataset into training and testing\n",
    "from sklearn.model_selection import train_test_split\n",
    "X_train, X_test, y_train, y_test = train_test_split(X, y, test_size = 0.2, random_state = 42)"
   ],
   "metadata": {
    "collapsed": false,
    "pycharm": {
     "name": "#%%\n"
    }
   }
  },
  {
   "cell_type": "code",
   "execution_count": 55,
   "outputs": [
    {
     "name": "stdout",
     "output_type": "stream",
     "text": [
      "Model Trained\n"
     ]
    }
   ],
   "source": [
    "# fitting the naive bayes classifier to the training set\n",
    "from sklearn.naive_bayes import CategoricalNB\n",
    "classifier = CategoricalNB()\n",
    "classifier.fit(X_train, y_train)\n",
    "print(\"Model Trained\")"
   ],
   "metadata": {
    "collapsed": false,
    "pycharm": {
     "name": "#%%\n"
    }
   }
  },
  {
   "cell_type": "code",
   "execution_count": 56,
   "outputs": [
    {
     "name": "stdout",
     "output_type": "stream",
     "text": [
      "[3. 9. 5. 1. 2. 2. 3. 9. 1. 4. 7. 4. 0. 7. 1. 4. 3. 1. 8. 5. 7. 5. 8. 6.\n",
      " 6. 7. 0. 4. 3. 0. 0. 6. 5. 6. 5. 1. 0. 5. 1. 3. 8. 8.]\n"
     ]
    }
   ],
   "source": [
    "# predicting the test set results\n",
    "y_pred = classifier.predict(X_test)\n",
    "print(y_pred)"
   ],
   "metadata": {
    "collapsed": false,
    "pycharm": {
     "name": "#%%\n"
    }
   }
  },
  {
   "cell_type": "code",
   "execution_count": 57,
   "outputs": [
    {
     "name": "stdout",
     "output_type": "stream",
     "text": [
      "0.5476190476190477\n"
     ]
    }
   ],
   "source": [
    "# finding the accuracy of the model\n",
    "from sklearn.metrics import accuracy_score\n",
    "print(accuracy_score(y_test, y_pred))"
   ],
   "metadata": {
    "collapsed": false,
    "pycharm": {
     "name": "#%%# finding the accuracy of the model\n"
    }
   }
  },
  {
   "cell_type": "code",
   "execution_count": 58,
   "outputs": [
    {
     "name": "stdout",
     "output_type": "stream",
     "text": [
      "[1 1 1 1 1 1 1]\n"
     ]
    }
   ],
   "source": [
    "# taking the test input from user\n",
    "test_input = []\n",
    "for i in range(7):\n",
    "    test_input.append(int(input()))\n",
    "\n",
    "# converting the test input into numpy array\n",
    "test_input = np.array(test_input)\n",
    "print(test_input)"
   ],
   "metadata": {
    "collapsed": false,
    "pycharm": {
     "name": "#%%\n"
    }
   }
  },
  {
   "cell_type": "code",
   "execution_count": 59,
   "outputs": [
    {
     "name": "stdout",
     "output_type": "stream",
     "text": [
      "[8.]\n"
     ]
    },
    {
     "name": "stderr",
     "output_type": "stream",
     "text": [
      "/Users/parzival979/miniforge3/envs/ML_LAB_4/lib/python3.10/site-packages/sklearn/base.py:450: UserWarning: X does not have valid feature names, but CategoricalNB was fitted with feature names\n",
      "  warnings.warn(\n"
     ]
    }
   ],
   "source": [
    "# predicting the test input\n",
    "test_pred = classifier.predict([test_input])\n",
    "# printing the predicted value\n",
    "print(test_pred)"
   ],
   "metadata": {
    "collapsed": false,
    "pycharm": {
     "name": "#%%\n"
    }
   }
  }
 ],
 "metadata": {
  "kernelspec": {
   "display_name": "Python 3",
   "language": "python",
   "name": "python3"
  },
  "language_info": {
   "codemirror_mode": {
    "name": "ipython",
    "version": 2
   },
   "file_extension": ".py",
   "mimetype": "text/x-python",
   "name": "python",
   "nbconvert_exporter": "python",
   "pygments_lexer": "ipython2",
   "version": "2.7.6"
  }
 },
 "nbformat": 4,
 "nbformat_minor": 0
}